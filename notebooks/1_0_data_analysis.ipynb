{
  "nbformat": 4,
  "nbformat_minor": 0,
  "metadata": {
    "colab": {
      "name": "1.0.data-analysis.ipynb",
      "provenance": [],
      "collapsed_sections": []
    },
    "kernelspec": {
      "name": "python3",
      "display_name": "Python 3"
    }
  },
  "cells": [
    {
      "cell_type": "code",
      "metadata": {
        "id": "oKawWGCqXuZb",
        "colab_type": "code",
        "colab": {}
      },
      "source": [
        "import gdown\n",
        "import os\n",
        "from pandas_profiling import ProfileReport\n",
        "\n",
        "# https://drive.google.com/file/d/1l_J0P9A_AD8d_rzZHJ5Fg8F4y1nGP_x3/view?usp=sharing\n",
        "\n",
        "url = f'https://drive.google.com/uc?id=1l_J0P9A_AD8d_rzZHJ5Fg8F4y1nGP_x3'\n",
        "filename = 'dataset.csv'\n",
        "if not os.path.exists(output):\n",
        "    gdown.download(url, output, quiet=False)"
      ],
      "execution_count": 0,
      "outputs": []
    },
    {
      "cell_type": "code",
      "metadata": {
        "id": "kBc_WqDTYB72",
        "colab_type": "code",
        "colab": {
          "base_uri": "https://localhost:8080/",
          "height": 72
        },
        "outputId": "fac01e5b-0ae5-41f7-e760-9845733a1436"
      },
      "source": [
        "import numpy as np\n",
        "import pandas as pd\n",
        "import matplotlib.pyplot as plt\n",
        "import seaborn as sns"
      ],
      "execution_count": 3,
      "outputs": [
        {
          "output_type": "stream",
          "text": [
            "/usr/local/lib/python3.6/dist-packages/statsmodels/tools/_testing.py:19: FutureWarning: pandas.util.testing is deprecated. Use the functions in the public API at pandas.testing instead.\n",
            "  import pandas.util.testing as tm\n"
          ],
          "name": "stderr"
        }
      ]
    },
    {
      "cell_type": "code",
      "metadata": {
        "id": "DBqAEO9iYfWD",
        "colab_type": "code",
        "colab": {}
      },
      "source": [
        "columns = ['emotion', 'text']\n",
        "\n",
        "df = pd.read_csv(filename, names=columns)"
      ],
      "execution_count": 0,
      "outputs": []
    },
    {
      "cell_type": "code",
      "metadata": {
        "id": "Y57iXX2rYlPr",
        "colab_type": "code",
        "colab": {
          "base_uri": "https://localhost:8080/",
          "height": 206
        },
        "outputId": "99729e72-0efa-42af-d95d-4dc6277bd349"
      },
      "source": [
        "df.head()"
      ],
      "execution_count": 10,
      "outputs": [
        {
          "output_type": "execute_result",
          "data": {
            "text/html": [
              "<div>\n",
              "<style scoped>\n",
              "    .dataframe tbody tr th:only-of-type {\n",
              "        vertical-align: middle;\n",
              "    }\n",
              "\n",
              "    .dataframe tbody tr th {\n",
              "        vertical-align: top;\n",
              "    }\n",
              "\n",
              "    .dataframe thead th {\n",
              "        text-align: right;\n",
              "    }\n",
              "</style>\n",
              "<table border=\"1\" class=\"dataframe\">\n",
              "  <thead>\n",
              "    <tr style=\"text-align: right;\">\n",
              "      <th></th>\n",
              "      <th>emotion</th>\n",
              "      <th>text</th>\n",
              "    </tr>\n",
              "  </thead>\n",
              "  <tbody>\n",
              "    <tr>\n",
              "      <th>0</th>\n",
              "      <td>joy</td>\n",
              "      <td>On days when I feel close to my partner and ot...</td>\n",
              "    </tr>\n",
              "    <tr>\n",
              "      <th>1</th>\n",
              "      <td>fear</td>\n",
              "      <td>Every time I imagine that someone I love or I ...</td>\n",
              "    </tr>\n",
              "    <tr>\n",
              "      <th>2</th>\n",
              "      <td>anger</td>\n",
              "      <td>When I had been obviously unjustly treated and...</td>\n",
              "    </tr>\n",
              "    <tr>\n",
              "      <th>3</th>\n",
              "      <td>sadness</td>\n",
              "      <td>When I think about the short time that we live...</td>\n",
              "    </tr>\n",
              "    <tr>\n",
              "      <th>4</th>\n",
              "      <td>disgust</td>\n",
              "      <td>At a gathering I found myself involuntarily si...</td>\n",
              "    </tr>\n",
              "  </tbody>\n",
              "</table>\n",
              "</div>"
            ],
            "text/plain": [
              "   emotion                                               text\n",
              "0      joy  On days when I feel close to my partner and ot...\n",
              "1     fear  Every time I imagine that someone I love or I ...\n",
              "2    anger  When I had been obviously unjustly treated and...\n",
              "3  sadness  When I think about the short time that we live...\n",
              "4  disgust  At a gathering I found myself involuntarily si..."
            ]
          },
          "metadata": {
            "tags": []
          },
          "execution_count": 10
        }
      ]
    },
    {
      "cell_type": "code",
      "metadata": {
        "id": "7Yi4Z8GaZg7U",
        "colab_type": "code",
        "colab": {
          "base_uri": "https://localhost:8080/",
          "height": 175
        },
        "outputId": "c5647c19-a193-4c28-bb0a-87f6be03a6d8"
      },
      "source": [
        "df.describe()"
      ],
      "execution_count": 13,
      "outputs": [
        {
          "output_type": "execute_result",
          "data": {
            "text/html": [
              "<div>\n",
              "<style scoped>\n",
              "    .dataframe tbody tr th:only-of-type {\n",
              "        vertical-align: middle;\n",
              "    }\n",
              "\n",
              "    .dataframe tbody tr th {\n",
              "        vertical-align: top;\n",
              "    }\n",
              "\n",
              "    .dataframe thead th {\n",
              "        text-align: right;\n",
              "    }\n",
              "</style>\n",
              "<table border=\"1\" class=\"dataframe\">\n",
              "  <thead>\n",
              "    <tr style=\"text-align: right;\">\n",
              "      <th></th>\n",
              "      <th>emotion</th>\n",
              "      <th>text</th>\n",
              "    </tr>\n",
              "  </thead>\n",
              "  <tbody>\n",
              "    <tr>\n",
              "      <th>count</th>\n",
              "      <td>7446</td>\n",
              "      <td>7446</td>\n",
              "    </tr>\n",
              "    <tr>\n",
              "      <th>unique</th>\n",
              "      <td>7</td>\n",
              "      <td>7379</td>\n",
              "    </tr>\n",
              "    <tr>\n",
              "      <th>top</th>\n",
              "      <td>joy</td>\n",
              "      <td>When my grandfather died.</td>\n",
              "    </tr>\n",
              "    <tr>\n",
              "      <th>freq</th>\n",
              "      <td>1082</td>\n",
              "      <td>8</td>\n",
              "    </tr>\n",
              "  </tbody>\n",
              "</table>\n",
              "</div>"
            ],
            "text/plain": [
              "       emotion                       text\n",
              "count     7446                       7446\n",
              "unique       7                       7379\n",
              "top        joy  When my grandfather died.\n",
              "freq      1082                          8"
            ]
          },
          "metadata": {
            "tags": []
          },
          "execution_count": 13
        }
      ]
    },
    {
      "cell_type": "markdown",
      "metadata": {
        "id": "8P2L32meZpIh",
        "colab_type": "text"
      },
      "source": [
        "+ We have $7$ emotion category\n",
        "+ We have Total of $7446$ data\n",
        "+ Clas `joy` has the highest number of data"
      ]
    },
    {
      "cell_type": "markdown",
      "metadata": {
        "id": "4XDQvj5IY923",
        "colab_type": "text"
      },
      "source": [
        "### Number of data for each emotion category"
      ]
    },
    {
      "cell_type": "code",
      "metadata": {
        "id": "00LLPh48Yl0q",
        "colab_type": "code",
        "colab": {
          "base_uri": "https://localhost:8080/",
          "height": 156
        },
        "outputId": "7dd5b3f2-16ab-40e8-e01b-9506b76cc826"
      },
      "source": [
        "df['emotion'].value_counts()"
      ],
      "execution_count": 11,
      "outputs": [
        {
          "output_type": "execute_result",
          "data": {
            "text/plain": [
              "joy        1082\n",
              "sadness    1074\n",
              "anger      1069\n",
              "fear       1063\n",
              "disgust    1059\n",
              "shame      1059\n",
              "guilt      1040\n",
              "Name: emotion, dtype: int64"
            ]
          },
          "metadata": {
            "tags": []
          },
          "execution_count": 11
        }
      ]
    },
    {
      "cell_type": "markdown",
      "metadata": {
        "id": "o-tIcjxhZC5m",
        "colab_type": "text"
      },
      "source": [
        "+ We have $7$ emotion types\n",
        "+ The data seems to be quite balanced"
      ]
    },
    {
      "cell_type": "markdown",
      "metadata": {
        "id": "8VW1ZMGGaMIg",
        "colab_type": "text"
      },
      "source": [
        "## Text information"
      ]
    },
    {
      "cell_type": "code",
      "metadata": {
        "id": "62hdLsV2awXb",
        "colab_type": "code",
        "colab": {
          "base_uri": "https://localhost:8080/",
          "height": 54
        },
        "outputId": "e8528306-e2ce-49d5-f3ce-6e10be71bce8"
      },
      "source": [
        "df['text'][0]"
      ],
      "execution_count": 20,
      "outputs": [
        {
          "output_type": "execute_result",
          "data": {
            "text/plain": [
              "'On days when I feel close to my partner and other friends.   \\nWhen I feel at peace with myself and also experience a close  \\ncontact with people whom I regard greatly.'"
            ]
          },
          "metadata": {
            "tags": []
          },
          "execution_count": 20
        }
      ]
    },
    {
      "cell_type": "code",
      "metadata": {
        "id": "8OHL6uBAaPGX",
        "colab_type": "code",
        "colab": {
          "base_uri": "https://localhost:8080/",
          "height": 54
        },
        "outputId": "8ff21f8a-f878-4c5d-8b38-4670c96a96f7"
      },
      "source": [
        "combined_text  = df['text'].str.cat()\n",
        "combined_text[:150]"
      ],
      "execution_count": 35,
      "outputs": [
        {
          "output_type": "execute_result",
          "data": {
            "text/plain": [
              "'On days when I feel close to my partner and other friends.   \\nWhen I feel at peace with myself and also experience a close  \\ncontact with people whom '"
            ]
          },
          "metadata": {
            "tags": []
          },
          "execution_count": 35
        }
      ]
    },
    {
      "cell_type": "code",
      "metadata": {
        "id": "JNzHbsFkahWP",
        "colab_type": "code",
        "colab": {
          "base_uri": "https://localhost:8080/",
          "height": 34
        },
        "outputId": "3e58481c-9d1d-4ac4-c904-b7efb0ac2e3b"
      },
      "source": [
        "len(combined_text)"
      ],
      "execution_count": 36,
      "outputs": [
        {
          "output_type": "execute_result",
          "data": {
            "text/plain": [
              "860339"
            ]
          },
          "metadata": {
            "tags": []
          },
          "execution_count": 36
        }
      ]
    },
    {
      "cell_type": "code",
      "metadata": {
        "id": "J4RdYWThai56",
        "colab_type": "code",
        "colab": {
          "base_uri": "https://localhost:8080/",
          "height": 54
        },
        "outputId": "d3594087-3de3-4193-deae-11388cbdc6a3"
      },
      "source": [
        "# remove all the new line chars\n",
        "combined_text = combined_text.replace('\\n', '')\n",
        "\n",
        "# replace fullstop with blank\n",
        "combined_text = combined_text.replace('.', '')\n",
        "\n",
        "combined_text[:150]"
      ],
      "execution_count": 37,
      "outputs": [
        {
          "output_type": "execute_result",
          "data": {
            "text/plain": [
              "'On days when I feel close to my partner and other friends   When I feel at peace with myself and also experience a close  contact with people whom I r'"
            ]
          },
          "metadata": {
            "tags": []
          },
          "execution_count": 37
        }
      ]
    },
    {
      "cell_type": "code",
      "metadata": {
        "id": "HDOXyVlKbNvT",
        "colab_type": "code",
        "colab": {
          "base_uri": "https://localhost:8080/",
          "height": 34
        },
        "outputId": "e3641cc2-3035-46ff-b5a8-43473db9000c"
      },
      "source": [
        "len(combined_text)"
      ],
      "execution_count": 38,
      "outputs": [
        {
          "output_type": "execute_result",
          "data": {
            "text/plain": [
              "839418"
            ]
          },
          "metadata": {
            "tags": []
          },
          "execution_count": 38
        }
      ]
    },
    {
      "cell_type": "code",
      "metadata": {
        "id": "yNeOWoZAbxul",
        "colab_type": "code",
        "colab": {}
      },
      "source": [
        "# convert all to lowercase\n",
        "combined_text = combined_text.lower()"
      ],
      "execution_count": 0,
      "outputs": []
    },
    {
      "cell_type": "code",
      "metadata": {
        "id": "G3iMjZUJbO9R",
        "colab_type": "code",
        "colab": {
          "base_uri": "https://localhost:8080/",
          "height": 34
        },
        "outputId": "d6fdefa6-3e7b-476a-97ed-7ac5cfadb348"
      },
      "source": [
        "words_splitted = combined_text.split()\n",
        "words_splitted[:10]"
      ],
      "execution_count": 40,
      "outputs": [
        {
          "output_type": "execute_result",
          "data": {
            "text/plain": [
              "['on', 'days', 'when', 'i', 'feel', 'close', 'to', 'my', 'partner', 'and']"
            ]
          },
          "metadata": {
            "tags": []
          },
          "execution_count": 40
        }
      ]
    },
    {
      "cell_type": "code",
      "metadata": {
        "id": "iF8sCpbhbqi8",
        "colab_type": "code",
        "colab": {
          "base_uri": "https://localhost:8080/",
          "height": 34
        },
        "outputId": "d710ac82-2cad-4c03-b3d9-bf2340c3e9b0"
      },
      "source": [
        "# total number of words\n",
        "len(words_splitted)"
      ],
      "execution_count": 41,
      "outputs": [
        {
          "output_type": "execute_result",
          "data": {
            "text/plain": [
              "156188"
            ]
          },
          "metadata": {
            "tags": []
          },
          "execution_count": 41
        }
      ]
    },
    {
      "cell_type": "code",
      "metadata": {
        "id": "mBD2MLBlb944",
        "colab_type": "code",
        "colab": {
          "base_uri": "https://localhost:8080/",
          "height": 364
        },
        "outputId": "6dd39841-ca19-412b-9f4e-58dd2d0ed7d7"
      },
      "source": [
        "unique_words = list(set(words_splitted))\n",
        "unique_words[:20]"
      ],
      "execution_count": 42,
      "outputs": [
        {
          "output_type": "execute_result",
          "data": {
            "text/plain": [
              "['luggage',\n",
              " 'analyze',\n",
              " 'sunshine',\n",
              " 'packet',\n",
              " 'examn,',\n",
              " 'right)losing',\n",
              " 'mesaw',\n",
              " 'brothersi',\n",
              " 'divorced',\n",
              " 'dialect)',\n",
              " 'over-estimating',\n",
              " 'hypocrisy',\n",
              " 'friendsuddenly',\n",
              " 'name)when',\n",
              " 'situation[',\n",
              " 'casei',\n",
              " 'insect,',\n",
              " 'tubei',\n",
              " 'confessed',\n",
              " 'overcooked']"
            ]
          },
          "metadata": {
            "tags": []
          },
          "execution_count": 42
        }
      ]
    },
    {
      "cell_type": "code",
      "metadata": {
        "id": "mEq8jktmcGAq",
        "colab_type": "code",
        "colab": {
          "base_uri": "https://localhost:8080/",
          "height": 34
        },
        "outputId": "6921cb32-5e94-4ba3-aca2-daafda4b62cf"
      },
      "source": [
        "len(unique_words)"
      ],
      "execution_count": 43,
      "outputs": [
        {
          "output_type": "execute_result",
          "data": {
            "text/plain": [
              "15583"
            ]
          },
          "metadata": {
            "tags": []
          },
          "execution_count": 43
        }
      ]
    },
    {
      "cell_type": "code",
      "metadata": {
        "id": "yosFEgBVc38_",
        "colab_type": "code",
        "colab": {}
      },
      "source": [
        "word_freq = sorted([(w, words_splitted.count(w)) for w in unique_words], key=lambda a: a[1], reverse=True)"
      ],
      "execution_count": 0,
      "outputs": []
    },
    {
      "cell_type": "code",
      "metadata": {
        "id": "HsigGx2sdHGM",
        "colab_type": "code",
        "colab": {
          "base_uri": "https://localhost:8080/",
          "height": 54
        },
        "outputId": "db62bb3a-c4d5-446b-f1ca-33b7b9a5e2f8"
      },
      "source": [
        "# Top 10 high frequency words\n",
        "print(\", \".join([f\"{w[0]}: {w[1]}\" for w in word_freq[:20]]))"
      ],
      "execution_count": 55,
      "outputs": [
        {
          "output_type": "stream",
          "text": [
            "i: 8762, the: 5749, a: 5614, to: 4609, and: 4501, was: 4452, my: 4235, of: 2969, in: 2620, had: 2520, that: 2056, me: 1759, for: 1572, with: 1520, not: 1457, when: 1403, at: 1292, it: 1194, on: 956, very: 954\n"
          ],
          "name": "stdout"
        }
      ]
    },
    {
      "cell_type": "markdown",
      "metadata": {
        "id": "LS7wX6gMdpvj",
        "colab_type": "text"
      },
      "source": [
        "+ As seen above, the stop words like _i_, _the_ are highly frequent words.\n",
        "\n",
        "+ They does not contribute much in the sentiment of the sentence, so we can remove\n",
        "\n",
        "+ We may not want to remove these for some models and remove these for others according to their performance"
      ]
    },
    {
      "cell_type": "code",
      "metadata": {
        "id": "kUn1qLu9dU10",
        "colab_type": "code",
        "colab": {
          "base_uri": "https://localhost:8080/",
          "height": 54
        },
        "outputId": "0eda8662-255e-4637-e628-4f9c30bd269f"
      },
      "source": [
        "# Top 10 least frequent words\n",
        "print(\", \".join([f\"{w[0]}: {w[1]}\" for w in word_freq[-20:]]))"
      ],
      "execution_count": 56,
      "outputs": [
        {
          "output_type": "stream",
          "text": [
            "continued,: 1, corpsein: 1, senile: 1, assistati: 1, begining,: 1, procrastinatedi: 1, delicious: 1, (17): 1, truthwhen: 1, punishedat: 1, i;e: 1, falsitywhen: 1, roommatei: 1, planon: 1, goodsthe: 1, \"prince\": 1, spiderwhen: 1, element\": 1, hostelit: 1, accidentaly: 1\n"
          ],
          "name": "stdout"
        }
      ]
    },
    {
      "cell_type": "markdown",
      "metadata": {
        "id": "wqRxOLsQd9kU",
        "colab_type": "text"
      },
      "source": [
        "+ The low frequency words are words with spelling mistake\n",
        "\n",
        "+ Adjectives, adverbs, past or past participles of a word\n",
        "\n",
        "+ Very rare words\n",
        "\n",
        "+ Converting the word `accidentaly` to `accidental` might be helpful (changing words to their root word)"
      ]
    },
    {
      "cell_type": "markdown",
      "metadata": {
        "id": "BiElLXo9cYeG",
        "colab_type": "text"
      },
      "source": [
        "## With NLTK"
      ]
    },
    {
      "cell_type": "code",
      "metadata": {
        "id": "WO6oQChdsMgb",
        "colab_type": "code",
        "colab": {
          "base_uri": "https://localhost:8080/",
          "height": 69
        },
        "outputId": "bdd0b50f-eb56-40be-e509-9ac1223c9bf7"
      },
      "source": [
        "import nltk\n",
        "\n",
        "nltk.download(\"punkt\")"
      ],
      "execution_count": 60,
      "outputs": [
        {
          "output_type": "stream",
          "text": [
            "[nltk_data] Downloading package punkt to /root/nltk_data...\n",
            "[nltk_data]   Unzipping tokenizers/punkt.zip.\n"
          ],
          "name": "stdout"
        },
        {
          "output_type": "execute_result",
          "data": {
            "text/plain": [
              "True"
            ]
          },
          "metadata": {
            "tags": []
          },
          "execution_count": 60
        }
      ]
    },
    {
      "cell_type": "code",
      "metadata": {
        "id": "xTJCOV3GcWCB",
        "colab_type": "code",
        "colab": {}
      },
      "source": [
        "from nltk.tokenize import sent_tokenize, word_tokenize"
      ],
      "execution_count": 0,
      "outputs": []
    },
    {
      "cell_type": "code",
      "metadata": {
        "id": "_ZKmVv1tr6mI",
        "colab_type": "code",
        "colab": {
          "base_uri": "https://localhost:8080/",
          "height": 225
        },
        "outputId": "f8c55849-d29f-4c30-d64c-7ef8e241872c"
      },
      "source": [
        "all_text  = df['text'].str.cat()\n",
        "sent_tokenized = sent_tokenize(all_text)\n",
        "\n",
        "for i, sent in enumerate(sent_tokenized[:2]):\n",
        "    print(f'#{i} : {sent}')"
      ],
      "execution_count": 65,
      "outputs": [
        {
          "output_type": "stream",
          "text": [
            "#0 : On days when I feel close to my partner and other friends.\n",
            "#1 : When I feel at peace with myself and also experience a close  \n",
            "contact with people whom I regard greatly.Every time I imagine that someone I love or I could contact a  \n",
            "serious illness, even death.When I had been obviously unjustly treated and had no possibility  \n",
            "of elucidating this.When I think about the short time that we live and relate it to  \n",
            "the periods of my life when I think that I did not use this  \n",
            "short time.At a gathering I found myself involuntarily sitting next to two  \n",
            "people who expressed opinions that I considered very low and  \n",
            "discriminating.When I realized that I was directing the feelings of discontent  \n",
            "with myself at my partner and this way was trying to put the blame  \n",
            "on him instead of sorting out my own feeliings.I feel guilty when when I realize that I consider material things  \n",
            "more important than caring for my relatives.\n"
          ],
          "name": "stdout"
        }
      ]
    },
    {
      "cell_type": "code",
      "metadata": {
        "id": "HZW-V_LVsKLs",
        "colab_type": "code",
        "colab": {
          "base_uri": "https://localhost:8080/",
          "height": 364
        },
        "outputId": "07350f18-ea7d-4d12-e863-82fa12bc60f2"
      },
      "source": [
        "word_tokenized = word_tokenize(all_text)\n",
        "word_tokenized[:20]"
      ],
      "execution_count": 67,
      "outputs": [
        {
          "output_type": "execute_result",
          "data": {
            "text/plain": [
              "['On',\n",
              " 'days',\n",
              " 'when',\n",
              " 'I',\n",
              " 'feel',\n",
              " 'close',\n",
              " 'to',\n",
              " 'my',\n",
              " 'partner',\n",
              " 'and',\n",
              " 'other',\n",
              " 'friends',\n",
              " '.',\n",
              " 'When',\n",
              " 'I',\n",
              " 'feel',\n",
              " 'at',\n",
              " 'peace',\n",
              " 'with',\n",
              " 'myself']"
            ]
          },
          "metadata": {
            "tags": []
          },
          "execution_count": 67
        }
      ]
    },
    {
      "cell_type": "code",
      "metadata": {
        "id": "rraGfveBtfu1",
        "colab_type": "code",
        "colab": {
          "base_uri": "https://localhost:8080/",
          "height": 69
        },
        "outputId": "e4a34ab6-8531-4af0-8521-1fe4afc65024"
      },
      "source": [
        "from nltk.corpus import stopwords\n",
        "import re\n",
        "nltk.download('stopwords')"
      ],
      "execution_count": 83,
      "outputs": [
        {
          "output_type": "stream",
          "text": [
            "[nltk_data] Downloading package stopwords to /root/nltk_data...\n",
            "[nltk_data]   Package stopwords is already up-to-date!\n"
          ],
          "name": "stdout"
        },
        {
          "output_type": "execute_result",
          "data": {
            "text/plain": [
              "True"
            ]
          },
          "metadata": {
            "tags": []
          },
          "execution_count": 83
        }
      ]
    },
    {
      "cell_type": "code",
      "metadata": {
        "id": "tC-nvrRRtw-u",
        "colab_type": "code",
        "colab": {
          "base_uri": "https://localhost:8080/",
          "height": 34
        },
        "outputId": "c5f65915-9622-48bf-c8dd-063213c64ecd"
      },
      "source": [
        "print(stopwords.words('english')[:10], 'total stopwords: ', len(stopwords.words('english')))"
      ],
      "execution_count": 75,
      "outputs": [
        {
          "output_type": "stream",
          "text": [
            "['i', 'me', 'my', 'myself', 'we', 'our', 'ours', 'ourselves', 'you', \"you're\"] total stopwords:  179\n"
          ],
          "name": "stdout"
        }
      ]
    },
    {
      "cell_type": "code",
      "metadata": {
        "id": "k_wgfNQxsv2w",
        "colab_type": "code",
        "colab": {}
      },
      "source": [
        "def process_text(text):\n",
        "    text = text if type(text) == str else ''\n",
        "\n",
        "    # clean the words, remove symbols special chars\n",
        "    pattern = r'[^a-zA-z0-9\\s]'\n",
        "    text = re.sub(pattern, '', text)\n",
        "\n",
        "    # convert to lowercase\n",
        "    text = text.lower()\n",
        "\n",
        "    # first tokenize the text\n",
        "    word_tokenized = word_tokenize(text)\n",
        "\n",
        "    # let's remove the stop words\n",
        "    en_stopwords = stopwords.words('english')\n",
        "    words_swords_removed = [word for word in word_tokenized if word not in en_stopwords]\n",
        "\n",
        "    return words_swords_removed"
      ],
      "execution_count": 0,
      "outputs": []
    },
    {
      "cell_type": "code",
      "metadata": {
        "id": "jJXNquSlxBvX",
        "colab_type": "code",
        "colab": {
          "base_uri": "https://localhost:8080/",
          "height": 34
        },
        "outputId": "07889e46-3d6d-4688-8f36-8fd0b4a5fe85"
      },
      "source": [
        "process_text(\"I don't know. .. what is this ? 😀😀\")"
      ],
      "execution_count": 93,
      "outputs": [
        {
          "output_type": "execute_result",
          "data": {
            "text/plain": [
              "['dont', 'know']"
            ]
          },
          "metadata": {
            "tags": []
          },
          "execution_count": 93
        }
      ]
    },
    {
      "cell_type": "code",
      "metadata": {
        "id": "ttJEJ2dhuW6M",
        "colab_type": "code",
        "colab": {
          "base_uri": "https://localhost:8080/",
          "height": 106
        },
        "outputId": "800a5dea-f385-482e-d947-3c9e69645174"
      },
      "source": [
        "r_text = df['text'][0]\n",
        "\n",
        "r_text_processed = process_text(r_text)\n",
        "\n",
        "print(f'Original:  {r_text}')\n",
        "print(f'Processed: {r_text_processed}')"
      ],
      "execution_count": 94,
      "outputs": [
        {
          "output_type": "stream",
          "text": [
            "Original:  On days when I feel close to my partner and other friends.   \n",
            "When I feel at peace with myself and also experience a close  \n",
            "contact with people whom I regard greatly.\n",
            "Processed: ['days', 'feel', 'close', 'partner', 'friends', 'feel', 'peace', 'also', 'experience', 'close', 'contact', 'people', 'regard', 'greatly']\n"
          ],
          "name": "stdout"
        }
      ]
    },
    {
      "cell_type": "code",
      "metadata": {
        "id": "7AyeMiEBub1t",
        "colab_type": "code",
        "colab": {}
      },
      "source": [
        "all_text_preprocessed = process_text(all_text)"
      ],
      "execution_count": 0,
      "outputs": []
    },
    {
      "cell_type": "code",
      "metadata": {
        "id": "bwOkuREAx1w7",
        "colab_type": "code",
        "colab": {}
      },
      "source": [
        "vocab = list(set(all_text_preprocessed))"
      ],
      "execution_count": 0,
      "outputs": []
    },
    {
      "cell_type": "code",
      "metadata": {
        "id": "5VPyIiUdz-hd",
        "colab_type": "code",
        "colab": {}
      },
      "source": [
        "from collections import Counter\n",
        "\n",
        "word_freq_nltk = Counter(all_text_preprocessed)"
      ],
      "execution_count": 0,
      "outputs": []
    },
    {
      "cell_type": "markdown",
      "metadata": {
        "id": "1mevsSjAyHm1",
        "colab_type": "text"
      },
      "source": [
        "Print top 20 high frequency words in our vocabulary"
      ]
    },
    {
      "cell_type": "code",
      "metadata": {
        "id": "l8ZhuPotyGUz",
        "colab_type": "code",
        "colab": {
          "base_uri": "https://localhost:8080/",
          "height": 54
        },
        "outputId": "f2b9e6c8-ad2b-4cd9-8dc9-456faeb8c5cc"
      },
      "source": [
        "top_20_most_common = word_freq_nltk.most_common(20)\n",
        "print(\", \".join([f\"{w[0]}: {w[1]}\" for w in top_20_most_common]))"
      ],
      "execution_count": 117,
      "outputs": [
        {
          "output_type": "stream",
          "text": [
            "felt: 872, friend: 787, one: 543, time: 464, got: 428, friends: 388, told: 384, would: 371, home: 362, mother: 360, day: 343, went: 335, school: 303, people: 300, came: 293, first: 292, saw: 291, person: 289, could: 288, go: 276\n"
          ],
          "name": "stdout"
        }
      ]
    },
    {
      "cell_type": "markdown",
      "metadata": {
        "id": "JMBxtBMLybps",
        "colab_type": "text"
      },
      "source": [
        "Print 20 least frequent words"
      ]
    },
    {
      "cell_type": "code",
      "metadata": {
        "id": "t0bPaJm4yWjV",
        "colab_type": "code",
        "colab": {
          "base_uri": "https://localhost:8080/",
          "height": 54
        },
        "outputId": "b92b6e52-8f68-473f-872f-96ad8dc7f686"
      },
      "source": [
        "top_20_least_common = word_freq_nltk.most_common(None)[-20:]\n",
        "\n",
        "print(\", \".join([f\"{w[0]}: {w[1]}\" for w in top_20_least_common]))"
      ],
      "execution_count": 120,
      "outputs": [
        {
          "output_type": "stream",
          "text": [
            "mainland: 1, sadduring: 1, britain: 1, accquainted: 1, bbq: 1, departing: 1, personperson: 1, mahjong: 1, decency: 1, halfheartedly: 1, classmatewhen: 1, baptism: 1, pepole: 1, baptised: 1, deepenedwhen: 1, gym: 1, stack: 1, questioning: 1, inserted: 1, randomly: 1\n"
          ],
          "name": "stdout"
        }
      ]
    },
    {
      "cell_type": "markdown",
      "metadata": {
        "id": "8F_sJiB4yzJq",
        "colab_type": "text"
      },
      "source": [
        "+ The least frequent words are words with spelling mistake, let's fix that."
      ]
    },
    {
      "cell_type": "markdown",
      "metadata": {
        "id": "EyxdbyMbzRMa",
        "colab_type": "text"
      },
      "source": [
        "### Autocorrect for spelling correction"
      ]
    },
    {
      "cell_type": "code",
      "metadata": {
        "id": "5MtmwDRbygwm",
        "colab_type": "code",
        "colab": {
          "base_uri": "https://localhost:8080/",
          "height": 211
        },
        "outputId": "7b5b9ea5-1e54-49de-9f79-f147c33aba6f"
      },
      "source": [
        "!pip install autocorrect"
      ],
      "execution_count": 108,
      "outputs": [
        {
          "output_type": "stream",
          "text": [
            "Collecting autocorrect\n",
            "\u001b[?25l  Downloading https://files.pythonhosted.org/packages/a9/b0/a1d628fa192e8ebf124b4cebc2a42b4e3aa65b8052fdf4888e04fadf3e8d/autocorrect-1.1.0.tar.gz (1.8MB)\n",
            "\r\u001b[K     |▏                               | 10kB 17.8MB/s eta 0:00:01\r\u001b[K     |▍                               | 20kB 1.7MB/s eta 0:00:02\r\u001b[K     |▌                               | 30kB 2.2MB/s eta 0:00:01\r\u001b[K     |▊                               | 40kB 2.5MB/s eta 0:00:01\r\u001b[K     |█                               | 51kB 2.0MB/s eta 0:00:01\r\u001b[K     |█                               | 61kB 2.2MB/s eta 0:00:01\r\u001b[K     |█▎                              | 71kB 2.5MB/s eta 0:00:01\r\u001b[K     |█▌                              | 81kB 2.8MB/s eta 0:00:01\r\u001b[K     |█▋                              | 92kB 2.9MB/s eta 0:00:01\r\u001b[K     |█▉                              | 102kB 2.8MB/s eta 0:00:01\r\u001b[K     |██                              | 112kB 2.8MB/s eta 0:00:01\r\u001b[K     |██▏                             | 122kB 2.8MB/s eta 0:00:01\r\u001b[K     |██▍                             | 133kB 2.8MB/s eta 0:00:01\r\u001b[K     |██▌                             | 143kB 2.8MB/s eta 0:00:01\r\u001b[K     |██▊                             | 153kB 2.8MB/s eta 0:00:01\r\u001b[K     |███                             | 163kB 2.8MB/s eta 0:00:01\r\u001b[K     |███                             | 174kB 2.8MB/s eta 0:00:01\r\u001b[K     |███▎                            | 184kB 2.8MB/s eta 0:00:01\r\u001b[K     |███▍                            | 194kB 2.8MB/s eta 0:00:01\r\u001b[K     |███▋                            | 204kB 2.8MB/s eta 0:00:01\r\u001b[K     |███▉                            | 215kB 2.8MB/s eta 0:00:01\r\u001b[K     |████                            | 225kB 2.8MB/s eta 0:00:01\r\u001b[K     |████▏                           | 235kB 2.8MB/s eta 0:00:01\r\u001b[K     |████▍                           | 245kB 2.8MB/s eta 0:00:01\r\u001b[K     |████▌                           | 256kB 2.8MB/s eta 0:00:01\r\u001b[K     |████▊                           | 266kB 2.8MB/s eta 0:00:01\r\u001b[K     |████▉                           | 276kB 2.8MB/s eta 0:00:01\r\u001b[K     |█████                           | 286kB 2.8MB/s eta 0:00:01\r\u001b[K     |█████▎                          | 296kB 2.8MB/s eta 0:00:01\r\u001b[K     |█████▍                          | 307kB 2.8MB/s eta 0:00:01\r\u001b[K     |█████▋                          | 317kB 2.8MB/s eta 0:00:01\r\u001b[K     |█████▉                          | 327kB 2.8MB/s eta 0:00:01\r\u001b[K     |██████                          | 337kB 2.8MB/s eta 0:00:01\r\u001b[K     |██████▏                         | 348kB 2.8MB/s eta 0:00:01\r\u001b[K     |██████▍                         | 358kB 2.8MB/s eta 0:00:01\r\u001b[K     |██████▌                         | 368kB 2.8MB/s eta 0:00:01\r\u001b[K     |██████▊                         | 378kB 2.8MB/s eta 0:00:01\r\u001b[K     |██████▉                         | 389kB 2.8MB/s eta 0:00:01\r\u001b[K     |███████                         | 399kB 2.8MB/s eta 0:00:01\r\u001b[K     |███████▎                        | 409kB 2.8MB/s eta 0:00:01\r\u001b[K     |███████▍                        | 419kB 2.8MB/s eta 0:00:01\r\u001b[K     |███████▋                        | 430kB 2.8MB/s eta 0:00:01\r\u001b[K     |███████▉                        | 440kB 2.8MB/s eta 0:00:01\r\u001b[K     |████████                        | 450kB 2.8MB/s eta 0:00:01\r\u001b[K     |████████▏                       | 460kB 2.8MB/s eta 0:00:01\r\u001b[K     |████████▎                       | 471kB 2.8MB/s eta 0:00:01\r\u001b[K     |████████▌                       | 481kB 2.8MB/s eta 0:00:01\r\u001b[K     |████████▊                       | 491kB 2.8MB/s eta 0:00:01\r\u001b[K     |████████▉                       | 501kB 2.8MB/s eta 0:00:01\r\u001b[K     |█████████                       | 512kB 2.8MB/s eta 0:00:01\r\u001b[K     |█████████▎                      | 522kB 2.8MB/s eta 0:00:01\r\u001b[K     |█████████▍                      | 532kB 2.8MB/s eta 0:00:01\r\u001b[K     |█████████▋                      | 542kB 2.8MB/s eta 0:00:01\r\u001b[K     |█████████▊                      | 552kB 2.8MB/s eta 0:00:01\r\u001b[K     |██████████                      | 563kB 2.8MB/s eta 0:00:01\r\u001b[K     |██████████▏                     | 573kB 2.8MB/s eta 0:00:01\r\u001b[K     |██████████▎                     | 583kB 2.8MB/s eta 0:00:01\r\u001b[K     |██████████▌                     | 593kB 2.8MB/s eta 0:00:01\r\u001b[K     |██████████▊                     | 604kB 2.8MB/s eta 0:00:01\r\u001b[K     |██████████▉                     | 614kB 2.8MB/s eta 0:00:01\r\u001b[K     |███████████                     | 624kB 2.8MB/s eta 0:00:01\r\u001b[K     |███████████▏                    | 634kB 2.8MB/s eta 0:00:01\r\u001b[K     |███████████▍                    | 645kB 2.8MB/s eta 0:00:01\r\u001b[K     |███████████▋                    | 655kB 2.8MB/s eta 0:00:01\r\u001b[K     |███████████▊                    | 665kB 2.8MB/s eta 0:00:01\r\u001b[K     |████████████                    | 675kB 2.8MB/s eta 0:00:01\r\u001b[K     |████████████▏                   | 686kB 2.8MB/s eta 0:00:01\r\u001b[K     |████████████▎                   | 696kB 2.8MB/s eta 0:00:01\r\u001b[K     |████████████▌                   | 706kB 2.8MB/s eta 0:00:01\r\u001b[K     |████████████▊                   | 716kB 2.8MB/s eta 0:00:01\r\u001b[K     |████████████▉                   | 727kB 2.8MB/s eta 0:00:01\r\u001b[K     |█████████████                   | 737kB 2.8MB/s eta 0:00:01\r\u001b[K     |█████████████▏                  | 747kB 2.8MB/s eta 0:00:01\r\u001b[K     |█████████████▍                  | 757kB 2.8MB/s eta 0:00:01\r\u001b[K     |█████████████▋                  | 768kB 2.8MB/s eta 0:00:01\r\u001b[K     |█████████████▊                  | 778kB 2.8MB/s eta 0:00:01\r\u001b[K     |██████████████                  | 788kB 2.8MB/s eta 0:00:01\r\u001b[K     |██████████████▏                 | 798kB 2.8MB/s eta 0:00:01\r\u001b[K     |██████████████▎                 | 808kB 2.8MB/s eta 0:00:01\r\u001b[K     |██████████████▌                 | 819kB 2.8MB/s eta 0:00:01\r\u001b[K     |██████████████▋                 | 829kB 2.8MB/s eta 0:00:01\r\u001b[K     |██████████████▉                 | 839kB 2.8MB/s eta 0:00:01\r\u001b[K     |███████████████                 | 849kB 2.8MB/s eta 0:00:01\r\u001b[K     |███████████████▏                | 860kB 2.8MB/s eta 0:00:01\r\u001b[K     |███████████████▍                | 870kB 2.8MB/s eta 0:00:01\r\u001b[K     |███████████████▋                | 880kB 2.8MB/s eta 0:00:01\r\u001b[K     |███████████████▊                | 890kB 2.8MB/s eta 0:00:01\r\u001b[K     |████████████████                | 901kB 2.8MB/s eta 0:00:01\r\u001b[K     |████████████████                | 911kB 2.8MB/s eta 0:00:01\r\u001b[K     |████████████████▎               | 921kB 2.8MB/s eta 0:00:01\r\u001b[K     |████████████████▌               | 931kB 2.8MB/s eta 0:00:01\r\u001b[K     |████████████████▋               | 942kB 2.8MB/s eta 0:00:01\r\u001b[K     |████████████████▉               | 952kB 2.8MB/s eta 0:00:01\r\u001b[K     |█████████████████               | 962kB 2.8MB/s eta 0:00:01\r\u001b[K     |█████████████████▏              | 972kB 2.8MB/s eta 0:00:01\r\u001b[K     |█████████████████▍              | 983kB 2.8MB/s eta 0:00:01\r\u001b[K     |█████████████████▌              | 993kB 2.8MB/s eta 0:00:01\r\u001b[K     |█████████████████▊              | 1.0MB 2.8MB/s eta 0:00:01\r\u001b[K     |██████████████████              | 1.0MB 2.8MB/s eta 0:00:01\r\u001b[K     |██████████████████              | 1.0MB 2.8MB/s eta 0:00:01\r\u001b[K     |██████████████████▎             | 1.0MB 2.8MB/s eta 0:00:01\r\u001b[K     |██████████████████▌             | 1.0MB 2.8MB/s eta 0:00:01\r\u001b[K     |██████████████████▋             | 1.1MB 2.8MB/s eta 0:00:01\r\u001b[K     |██████████████████▉             | 1.1MB 2.8MB/s eta 0:00:01\r\u001b[K     |███████████████████             | 1.1MB 2.8MB/s eta 0:00:01\r\u001b[K     |███████████████████▏            | 1.1MB 2.8MB/s eta 0:00:01\r\u001b[K     |███████████████████▍            | 1.1MB 2.8MB/s eta 0:00:01\r\u001b[K     |███████████████████▌            | 1.1MB 2.8MB/s eta 0:00:01\r\u001b[K     |███████████████████▊            | 1.1MB 2.8MB/s eta 0:00:01\r\u001b[K     |████████████████████            | 1.1MB 2.8MB/s eta 0:00:01\r\u001b[K     |████████████████████            | 1.1MB 2.8MB/s eta 0:00:01\r\u001b[K     |████████████████████▎           | 1.1MB 2.8MB/s eta 0:00:01\r\u001b[K     |████████████████████▌           | 1.2MB 2.8MB/s eta 0:00:01\r\u001b[K     |████████████████████▋           | 1.2MB 2.8MB/s eta 0:00:01\r\u001b[K     |████████████████████▉           | 1.2MB 2.8MB/s eta 0:00:01\r\u001b[K     |█████████████████████           | 1.2MB 2.8MB/s eta 0:00:01\r\u001b[K     |█████████████████████▏          | 1.2MB 2.8MB/s eta 0:00:01\r\u001b[K     |█████████████████████▍          | 1.2MB 2.8MB/s eta 0:00:01\r\u001b[K     |█████████████████████▌          | 1.2MB 2.8MB/s eta 0:00:01\r\u001b[K     |█████████████████████▊          | 1.2MB 2.8MB/s eta 0:00:01\r\u001b[K     |██████████████████████          | 1.2MB 2.8MB/s eta 0:00:01\r\u001b[K     |██████████████████████          | 1.2MB 2.8MB/s eta 0:00:01\r\u001b[K     |██████████████████████▎         | 1.3MB 2.8MB/s eta 0:00:01\r\u001b[K     |██████████████████████▍         | 1.3MB 2.8MB/s eta 0:00:01\r\u001b[K     |██████████████████████▋         | 1.3MB 2.8MB/s eta 0:00:01\r\u001b[K     |██████████████████████▉         | 1.3MB 2.8MB/s eta 0:00:01\r\u001b[K     |███████████████████████         | 1.3MB 2.8MB/s eta 0:00:01\r\u001b[K     |███████████████████████▏        | 1.3MB 2.8MB/s eta 0:00:01\r\u001b[K     |███████████████████████▍        | 1.3MB 2.8MB/s eta 0:00:01\r\u001b[K     |███████████████████████▌        | 1.3MB 2.8MB/s eta 0:00:01\r\u001b[K     |███████████████████████▊        | 1.3MB 2.8MB/s eta 0:00:01\r\u001b[K     |███████████████████████▉        | 1.4MB 2.8MB/s eta 0:00:01\r\u001b[K     |████████████████████████        | 1.4MB 2.8MB/s eta 0:00:01\r\u001b[K     |████████████████████████▎       | 1.4MB 2.8MB/s eta 0:00:01\r\u001b[K     |████████████████████████▍       | 1.4MB 2.8MB/s eta 0:00:01\r\u001b[K     |████████████████████████▋       | 1.4MB 2.8MB/s eta 0:00:01\r\u001b[K     |████████████████████████▉       | 1.4MB 2.8MB/s eta 0:00:01\r\u001b[K     |█████████████████████████       | 1.4MB 2.8MB/s eta 0:00:01\r\u001b[K     |█████████████████████████▏      | 1.4MB 2.8MB/s eta 0:00:01\r\u001b[K     |█████████████████████████▍      | 1.4MB 2.8MB/s eta 0:00:01\r\u001b[K     |█████████████████████████▌      | 1.4MB 2.8MB/s eta 0:00:01\r\u001b[K     |█████████████████████████▊      | 1.5MB 2.8MB/s eta 0:00:01\r\u001b[K     |█████████████████████████▉      | 1.5MB 2.8MB/s eta 0:00:01\r\u001b[K     |██████████████████████████      | 1.5MB 2.8MB/s eta 0:00:01\r\u001b[K     |██████████████████████████▎     | 1.5MB 2.8MB/s eta 0:00:01\r\u001b[K     |██████████████████████████▍     | 1.5MB 2.8MB/s eta 0:00:01\r\u001b[K     |██████████████████████████▋     | 1.5MB 2.8MB/s eta 0:00:01\r\u001b[K     |██████████████████████████▉     | 1.5MB 2.8MB/s eta 0:00:01\r\u001b[K     |███████████████████████████     | 1.5MB 2.8MB/s eta 0:00:01\r\u001b[K     |███████████████████████████▏    | 1.5MB 2.8MB/s eta 0:00:01\r\u001b[K     |███████████████████████████▎    | 1.5MB 2.8MB/s eta 0:00:01\r\u001b[K     |███████████████████████████▌    | 1.6MB 2.8MB/s eta 0:00:01\r\u001b[K     |███████████████████████████▊    | 1.6MB 2.8MB/s eta 0:00:01\r\u001b[K     |███████████████████████████▉    | 1.6MB 2.8MB/s eta 0:00:01\r\u001b[K     |████████████████████████████    | 1.6MB 2.8MB/s eta 0:00:01\r\u001b[K     |████████████████████████████▎   | 1.6MB 2.8MB/s eta 0:00:01\r\u001b[K     |████████████████████████████▍   | 1.6MB 2.8MB/s eta 0:00:01\r\u001b[K     |████████████████████████████▋   | 1.6MB 2.8MB/s eta 0:00:01\r\u001b[K     |████████████████████████████▊   | 1.6MB 2.8MB/s eta 0:00:01\r\u001b[K     |█████████████████████████████   | 1.6MB 2.8MB/s eta 0:00:01\r\u001b[K     |█████████████████████████████▏  | 1.6MB 2.8MB/s eta 0:00:01\r\u001b[K     |█████████████████████████████▎  | 1.7MB 2.8MB/s eta 0:00:01\r\u001b[K     |█████████████████████████████▌  | 1.7MB 2.8MB/s eta 0:00:01\r\u001b[K     |█████████████████████████████▊  | 1.7MB 2.8MB/s eta 0:00:01\r\u001b[K     |█████████████████████████████▉  | 1.7MB 2.8MB/s eta 0:00:01\r\u001b[K     |██████████████████████████████  | 1.7MB 2.8MB/s eta 0:00:01\r\u001b[K     |██████████████████████████████▏ | 1.7MB 2.8MB/s eta 0:00:01\r\u001b[K     |██████████████████████████████▍ | 1.7MB 2.8MB/s eta 0:00:01\r\u001b[K     |██████████████████████████████▋ | 1.7MB 2.8MB/s eta 0:00:01\r\u001b[K     |██████████████████████████████▊ | 1.7MB 2.8MB/s eta 0:00:01\r\u001b[K     |███████████████████████████████ | 1.8MB 2.8MB/s eta 0:00:01\r\u001b[K     |███████████████████████████████▏| 1.8MB 2.8MB/s eta 0:00:01\r\u001b[K     |███████████████████████████████▎| 1.8MB 2.8MB/s eta 0:00:01\r\u001b[K     |███████████████████████████████▌| 1.8MB 2.8MB/s eta 0:00:01\r\u001b[K     |███████████████████████████████▊| 1.8MB 2.8MB/s eta 0:00:01\r\u001b[K     |███████████████████████████████▉| 1.8MB 2.8MB/s eta 0:00:01\r\u001b[K     |████████████████████████████████| 1.8MB 2.8MB/s \n",
            "\u001b[?25hBuilding wheels for collected packages: autocorrect\n",
            "  Building wheel for autocorrect (setup.py) ... \u001b[?25l\u001b[?25hdone\n",
            "  Created wheel for autocorrect: filename=autocorrect-1.1.0-cp36-none-any.whl size=1810772 sha256=4d12272e48a4c14738ca25683fee9d5b2a278b9d59966fa8ce33bdfe1976f54e\n",
            "  Stored in directory: /root/.cache/pip/wheels/78/7f/b1/527522820ae623df6a2dbe14f778d23adaea4bebe43f7ebcfe\n",
            "Successfully built autocorrect\n",
            "Installing collected packages: autocorrect\n",
            "Successfully installed autocorrect-1.1.0\n"
          ],
          "name": "stdout"
        }
      ]
    },
    {
      "cell_type": "code",
      "metadata": {
        "id": "sZ_yVlqYzPkQ",
        "colab_type": "code",
        "colab": {}
      },
      "source": [
        "from autocorrect import Speller\n",
        "\n",
        "spell = Speller(lang='en')"
      ],
      "execution_count": 0,
      "outputs": []
    },
    {
      "cell_type": "markdown",
      "metadata": {
        "id": "3OhUZDi90898",
        "colab_type": "text"
      },
      "source": [
        "Correct least 100 less common words"
      ]
    },
    {
      "cell_type": "code",
      "metadata": {
        "id": "Q2Y3_n1izWf_",
        "colab_type": "code",
        "colab": {
          "base_uri": "https://localhost:8080/",
          "height": 72
        },
        "outputId": "cc7c74d0-26e1-4437-fd5f-774bac8cdece"
      },
      "source": [
        "top_100_least_common = word_freq_nltk.most_common(None)[-100:]\n",
        "\n",
        "words_or = []\n",
        "words_cr = []\n",
        "\n",
        "for word, _ in top_100_least_common:\n",
        "    corrected = spell(word)\n",
        "    if word != corrected:\n",
        "        words_or.append(word)\n",
        "        words_cr.append(corrected)\n",
        "\n",
        "print(f'Original:        {words_or}')\n",
        "print(f'Spell corrected: {words_cr}')"
      ],
      "execution_count": 139,
      "outputs": [
        {
          "output_type": "stream",
          "text": [
            "Original:        ['persoon', 'organizor', 'afterwardsit', 'mrw', 'pmthe', 'dieone', 'starteed', 'beforemy', 'favouron', 'phillipines', 'dawni', 'didcovered', 'thay', 'examonce', 'daymy', 'intolerablei', 'admited', 'numberone', 'besti', 'matesi', 'sexduring', 'organizors', 'leadersone', 'partonce', 'chyne', 'sincereat', 'sadduring', 'accquainted', 'bbq', 'pepole']\n",
            "Spell corrected: ['person', 'organizer', 'afterwards', 'mrs', 'the', 'ditone', 'started', 'before', 'favour', 'philippines', 'dawn', 'discovered', 'that', 'examine', 'day', 'intolerable', 'admitted', 'numbering', 'best', 'mates', 'securing', 'organizers', 'leaderene', 'patonce', 'chyle', 'sincerest', 'adducing', 'acquainted', 'bbs', 'people']\n"
          ],
          "name": "stdout"
        }
      ]
    },
    {
      "cell_type": "markdown",
      "metadata": {
        "id": "ZOFSONZY3oF4",
        "colab_type": "text"
      },
      "source": [
        "With pyspellchecker"
      ]
    },
    {
      "cell_type": "code",
      "metadata": {
        "id": "keYIjCa8zubC",
        "colab_type": "code",
        "colab": {
          "base_uri": "https://localhost:8080/",
          "height": 124
        },
        "outputId": "53fd2bc1-4ad7-4b46-ffb3-2b42df7bac99"
      },
      "source": [
        "!pip install pyspellchecker"
      ],
      "execution_count": 130,
      "outputs": [
        {
          "output_type": "stream",
          "text": [
            "Collecting pyspellchecker\n",
            "\u001b[?25l  Downloading https://files.pythonhosted.org/packages/04/d1/ec4e830e9f9c1fd788e1459dd09279fdf807bc7a475579fd7192450b879c/pyspellchecker-0.5.4-py2.py3-none-any.whl (1.9MB)\n",
            "\r\u001b[K     |▏                               | 10kB 18.0MB/s eta 0:00:01\r\u001b[K     |▍                               | 20kB 1.7MB/s eta 0:00:02\r\u001b[K     |▌                               | 30kB 2.2MB/s eta 0:00:01\r\u001b[K     |▊                               | 40kB 2.5MB/s eta 0:00:01\r\u001b[K     |▉                               | 51kB 2.0MB/s eta 0:00:01\r\u001b[K     |█                               | 61kB 2.3MB/s eta 0:00:01\r\u001b[K     |█▏                              | 71kB 2.5MB/s eta 0:00:01\r\u001b[K     |█▍                              | 81kB 2.8MB/s eta 0:00:01\r\u001b[K     |█▌                              | 92kB 2.9MB/s eta 0:00:01\r\u001b[K     |█▊                              | 102kB 2.8MB/s eta 0:00:01\r\u001b[K     |█▉                              | 112kB 2.8MB/s eta 0:00:01\r\u001b[K     |██                              | 122kB 2.8MB/s eta 0:00:01\r\u001b[K     |██▎                             | 133kB 2.8MB/s eta 0:00:01\r\u001b[K     |██▍                             | 143kB 2.8MB/s eta 0:00:01\r\u001b[K     |██▋                             | 153kB 2.8MB/s eta 0:00:01\r\u001b[K     |██▊                             | 163kB 2.8MB/s eta 0:00:01\r\u001b[K     |███                             | 174kB 2.8MB/s eta 0:00:01\r\u001b[K     |███                             | 184kB 2.8MB/s eta 0:00:01\r\u001b[K     |███▎                            | 194kB 2.8MB/s eta 0:00:01\r\u001b[K     |███▍                            | 204kB 2.8MB/s eta 0:00:01\r\u001b[K     |███▋                            | 215kB 2.8MB/s eta 0:00:01\r\u001b[K     |███▊                            | 225kB 2.8MB/s eta 0:00:01\r\u001b[K     |████                            | 235kB 2.8MB/s eta 0:00:01\r\u001b[K     |████▏                           | 245kB 2.8MB/s eta 0:00:01\r\u001b[K     |████▎                           | 256kB 2.8MB/s eta 0:00:01\r\u001b[K     |████▌                           | 266kB 2.8MB/s eta 0:00:01\r\u001b[K     |████▋                           | 276kB 2.8MB/s eta 0:00:01\r\u001b[K     |████▉                           | 286kB 2.8MB/s eta 0:00:01\r\u001b[K     |█████                           | 296kB 2.8MB/s eta 0:00:01\r\u001b[K     |█████▏                          | 307kB 2.8MB/s eta 0:00:01\r\u001b[K     |█████▎                          | 317kB 2.8MB/s eta 0:00:01\r\u001b[K     |█████▌                          | 327kB 2.8MB/s eta 0:00:01\r\u001b[K     |█████▋                          | 337kB 2.8MB/s eta 0:00:01\r\u001b[K     |█████▉                          | 348kB 2.8MB/s eta 0:00:01\r\u001b[K     |██████                          | 358kB 2.8MB/s eta 0:00:01\r\u001b[K     |██████▏                         | 368kB 2.8MB/s eta 0:00:01\r\u001b[K     |██████▍                         | 378kB 2.8MB/s eta 0:00:01\r\u001b[K     |██████▌                         | 389kB 2.8MB/s eta 0:00:01\r\u001b[K     |██████▊                         | 399kB 2.8MB/s eta 0:00:01\r\u001b[K     |██████▉                         | 409kB 2.8MB/s eta 0:00:01\r\u001b[K     |███████                         | 419kB 2.8MB/s eta 0:00:01\r\u001b[K     |███████▏                        | 430kB 2.8MB/s eta 0:00:01\r\u001b[K     |███████▍                        | 440kB 2.8MB/s eta 0:00:01\r\u001b[K     |███████▌                        | 450kB 2.8MB/s eta 0:00:01\r\u001b[K     |███████▊                        | 460kB 2.8MB/s eta 0:00:01\r\u001b[K     |████████                        | 471kB 2.8MB/s eta 0:00:01\r\u001b[K     |████████                        | 481kB 2.8MB/s eta 0:00:01\r\u001b[K     |████████▎                       | 491kB 2.8MB/s eta 0:00:01\r\u001b[K     |████████▍                       | 501kB 2.8MB/s eta 0:00:01\r\u001b[K     |████████▋                       | 512kB 2.8MB/s eta 0:00:01\r\u001b[K     |████████▊                       | 522kB 2.8MB/s eta 0:00:01\r\u001b[K     |█████████                       | 532kB 2.8MB/s eta 0:00:01\r\u001b[K     |█████████                       | 542kB 2.8MB/s eta 0:00:01\r\u001b[K     |█████████▎                      | 552kB 2.8MB/s eta 0:00:01\r\u001b[K     |█████████▍                      | 563kB 2.8MB/s eta 0:00:01\r\u001b[K     |█████████▋                      | 573kB 2.8MB/s eta 0:00:01\r\u001b[K     |█████████▉                      | 583kB 2.8MB/s eta 0:00:01\r\u001b[K     |██████████                      | 593kB 2.8MB/s eta 0:00:01\r\u001b[K     |██████████▏                     | 604kB 2.8MB/s eta 0:00:01\r\u001b[K     |██████████▎                     | 614kB 2.8MB/s eta 0:00:01\r\u001b[K     |██████████▌                     | 624kB 2.8MB/s eta 0:00:01\r\u001b[K     |██████████▋                     | 634kB 2.8MB/s eta 0:00:01\r\u001b[K     |██████████▉                     | 645kB 2.8MB/s eta 0:00:01\r\u001b[K     |███████████                     | 655kB 2.8MB/s eta 0:00:01\r\u001b[K     |███████████▏                    | 665kB 2.8MB/s eta 0:00:01\r\u001b[K     |███████████▎                    | 675kB 2.8MB/s eta 0:00:01\r\u001b[K     |███████████▌                    | 686kB 2.8MB/s eta 0:00:01\r\u001b[K     |███████████▊                    | 696kB 2.8MB/s eta 0:00:01\r\u001b[K     |███████████▉                    | 706kB 2.8MB/s eta 0:00:01\r\u001b[K     |████████████                    | 716kB 2.8MB/s eta 0:00:01\r\u001b[K     |████████████▏                   | 727kB 2.8MB/s eta 0:00:01\r\u001b[K     |████████████▍                   | 737kB 2.8MB/s eta 0:00:01\r\u001b[K     |████████████▌                   | 747kB 2.8MB/s eta 0:00:01\r\u001b[K     |████████████▊                   | 757kB 2.8MB/s eta 0:00:01\r\u001b[K     |████████████▉                   | 768kB 2.8MB/s eta 0:00:01\r\u001b[K     |█████████████                   | 778kB 2.8MB/s eta 0:00:01\r\u001b[K     |█████████████▏                  | 788kB 2.8MB/s eta 0:00:01\r\u001b[K     |█████████████▍                  | 798kB 2.8MB/s eta 0:00:01\r\u001b[K     |█████████████▋                  | 808kB 2.8MB/s eta 0:00:01\r\u001b[K     |█████████████▊                  | 819kB 2.8MB/s eta 0:00:01\r\u001b[K     |██████████████                  | 829kB 2.8MB/s eta 0:00:01\r\u001b[K     |██████████████                  | 839kB 2.8MB/s eta 0:00:01\r\u001b[K     |██████████████▎                 | 849kB 2.8MB/s eta 0:00:01\r\u001b[K     |██████████████▍                 | 860kB 2.8MB/s eta 0:00:01\r\u001b[K     |██████████████▋                 | 870kB 2.8MB/s eta 0:00:01\r\u001b[K     |██████████████▊                 | 880kB 2.8MB/s eta 0:00:01\r\u001b[K     |███████████████                 | 890kB 2.8MB/s eta 0:00:01\r\u001b[K     |███████████████                 | 901kB 2.8MB/s eta 0:00:01\r\u001b[K     |███████████████▎                | 911kB 2.8MB/s eta 0:00:01\r\u001b[K     |███████████████▌                | 921kB 2.8MB/s eta 0:00:01\r\u001b[K     |███████████████▋                | 931kB 2.8MB/s eta 0:00:01\r\u001b[K     |███████████████▉                | 942kB 2.8MB/s eta 0:00:01\r\u001b[K     |████████████████                | 952kB 2.8MB/s eta 0:00:01\r\u001b[K     |████████████████▏               | 962kB 2.8MB/s eta 0:00:01\r\u001b[K     |████████████████▎               | 972kB 2.8MB/s eta 0:00:01\r\u001b[K     |████████████████▌               | 983kB 2.8MB/s eta 0:00:01\r\u001b[K     |████████████████▋               | 993kB 2.8MB/s eta 0:00:01\r\u001b[K     |████████████████▉               | 1.0MB 2.8MB/s eta 0:00:01\r\u001b[K     |█████████████████               | 1.0MB 2.8MB/s eta 0:00:01\r\u001b[K     |█████████████████▏              | 1.0MB 2.8MB/s eta 0:00:01\r\u001b[K     |█████████████████▍              | 1.0MB 2.8MB/s eta 0:00:01\r\u001b[K     |█████████████████▌              | 1.0MB 2.8MB/s eta 0:00:01\r\u001b[K     |█████████████████▊              | 1.1MB 2.8MB/s eta 0:00:01\r\u001b[K     |█████████████████▉              | 1.1MB 2.8MB/s eta 0:00:01\r\u001b[K     |██████████████████              | 1.1MB 2.8MB/s eta 0:00:01\r\u001b[K     |██████████████████▏             | 1.1MB 2.8MB/s eta 0:00:01\r\u001b[K     |██████████████████▍             | 1.1MB 2.8MB/s eta 0:00:01\r\u001b[K     |██████████████████▌             | 1.1MB 2.8MB/s eta 0:00:01\r\u001b[K     |██████████████████▊             | 1.1MB 2.8MB/s eta 0:00:01\r\u001b[K     |██████████████████▉             | 1.1MB 2.8MB/s eta 0:00:01\r\u001b[K     |███████████████████             | 1.1MB 2.8MB/s eta 0:00:01\r\u001b[K     |███████████████████▎            | 1.1MB 2.8MB/s eta 0:00:01\r\u001b[K     |███████████████████▍            | 1.2MB 2.8MB/s eta 0:00:01\r\u001b[K     |███████████████████▋            | 1.2MB 2.8MB/s eta 0:00:01\r\u001b[K     |███████████████████▊            | 1.2MB 2.8MB/s eta 0:00:01\r\u001b[K     |████████████████████            | 1.2MB 2.8MB/s eta 0:00:01\r\u001b[K     |████████████████████            | 1.2MB 2.8MB/s eta 0:00:01\r\u001b[K     |████████████████████▎           | 1.2MB 2.8MB/s eta 0:00:01\r\u001b[K     |████████████████████▍           | 1.2MB 2.8MB/s eta 0:00:01\r\u001b[K     |████████████████████▋           | 1.2MB 2.8MB/s eta 0:00:01\r\u001b[K     |████████████████████▊           | 1.2MB 2.8MB/s eta 0:00:01\r\u001b[K     |█████████████████████           | 1.2MB 2.8MB/s eta 0:00:01\r\u001b[K     |█████████████████████▏          | 1.3MB 2.8MB/s eta 0:00:01\r\u001b[K     |█████████████████████▎          | 1.3MB 2.8MB/s eta 0:00:01\r\u001b[K     |█████████████████████▌          | 1.3MB 2.8MB/s eta 0:00:01\r\u001b[K     |█████████████████████▋          | 1.3MB 2.8MB/s eta 0:00:01\r\u001b[K     |█████████████████████▉          | 1.3MB 2.8MB/s eta 0:00:01\r\u001b[K     |██████████████████████          | 1.3MB 2.8MB/s eta 0:00:01\r\u001b[K     |██████████████████████▏         | 1.3MB 2.8MB/s eta 0:00:01\r\u001b[K     |██████████████████████▎         | 1.3MB 2.8MB/s eta 0:00:01\r\u001b[K     |██████████████████████▌         | 1.3MB 2.8MB/s eta 0:00:01\r\u001b[K     |██████████████████████▋         | 1.4MB 2.8MB/s eta 0:00:01\r\u001b[K     |██████████████████████▉         | 1.4MB 2.8MB/s eta 0:00:01\r\u001b[K     |███████████████████████         | 1.4MB 2.8MB/s eta 0:00:01\r\u001b[K     |███████████████████████▏        | 1.4MB 2.8MB/s eta 0:00:01\r\u001b[K     |███████████████████████▍        | 1.4MB 2.8MB/s eta 0:00:01\r\u001b[K     |███████████████████████▌        | 1.4MB 2.8MB/s eta 0:00:01\r\u001b[K     |███████████████████████▊        | 1.4MB 2.8MB/s eta 0:00:01\r\u001b[K     |███████████████████████▉        | 1.4MB 2.8MB/s eta 0:00:01\r\u001b[K     |████████████████████████        | 1.4MB 2.8MB/s eta 0:00:01\r\u001b[K     |████████████████████████▏       | 1.4MB 2.8MB/s eta 0:00:01\r\u001b[K     |████████████████████████▍       | 1.5MB 2.8MB/s eta 0:00:01\r\u001b[K     |████████████████████████▌       | 1.5MB 2.8MB/s eta 0:00:01\r\u001b[K     |████████████████████████▊       | 1.5MB 2.8MB/s eta 0:00:01\r\u001b[K     |█████████████████████████       | 1.5MB 2.8MB/s eta 0:00:01\r\u001b[K     |█████████████████████████       | 1.5MB 2.8MB/s eta 0:00:01\r\u001b[K     |█████████████████████████▎      | 1.5MB 2.8MB/s eta 0:00:01\r\u001b[K     |█████████████████████████▍      | 1.5MB 2.8MB/s eta 0:00:01\r\u001b[K     |█████████████████████████▋      | 1.5MB 2.8MB/s eta 0:00:01\r\u001b[K     |█████████████████████████▊      | 1.5MB 2.8MB/s eta 0:00:01\r\u001b[K     |██████████████████████████      | 1.5MB 2.8MB/s eta 0:00:01\r\u001b[K     |██████████████████████████      | 1.6MB 2.8MB/s eta 0:00:01\r\u001b[K     |██████████████████████████▎     | 1.6MB 2.8MB/s eta 0:00:01\r\u001b[K     |██████████████████████████▍     | 1.6MB 2.8MB/s eta 0:00:01\r\u001b[K     |██████████████████████████▋     | 1.6MB 2.8MB/s eta 0:00:01\r\u001b[K     |██████████████████████████▉     | 1.6MB 2.8MB/s eta 0:00:01\r\u001b[K     |███████████████████████████     | 1.6MB 2.8MB/s eta 0:00:01\r\u001b[K     |███████████████████████████▏    | 1.6MB 2.8MB/s eta 0:00:01\r\u001b[K     |███████████████████████████▎    | 1.6MB 2.8MB/s eta 0:00:01\r\u001b[K     |███████████████████████████▌    | 1.6MB 2.8MB/s eta 0:00:01\r\u001b[K     |███████████████████████████▋    | 1.6MB 2.8MB/s eta 0:00:01\r\u001b[K     |███████████████████████████▉    | 1.7MB 2.8MB/s eta 0:00:01\r\u001b[K     |████████████████████████████    | 1.7MB 2.8MB/s eta 0:00:01\r\u001b[K     |████████████████████████████▏   | 1.7MB 2.8MB/s eta 0:00:01\r\u001b[K     |████████████████████████████▎   | 1.7MB 2.8MB/s eta 0:00:01\r\u001b[K     |████████████████████████████▌   | 1.7MB 2.8MB/s eta 0:00:01\r\u001b[K     |████████████████████████████▊   | 1.7MB 2.8MB/s eta 0:00:01\r\u001b[K     |████████████████████████████▉   | 1.7MB 2.8MB/s eta 0:00:01\r\u001b[K     |█████████████████████████████   | 1.7MB 2.8MB/s eta 0:00:01\r\u001b[K     |█████████████████████████████▏  | 1.7MB 2.8MB/s eta 0:00:01\r\u001b[K     |█████████████████████████████▍  | 1.8MB 2.8MB/s eta 0:00:01\r\u001b[K     |█████████████████████████████▌  | 1.8MB 2.8MB/s eta 0:00:01\r\u001b[K     |█████████████████████████████▊  | 1.8MB 2.8MB/s eta 0:00:01\r\u001b[K     |█████████████████████████████▉  | 1.8MB 2.8MB/s eta 0:00:01\r\u001b[K     |██████████████████████████████  | 1.8MB 2.8MB/s eta 0:00:01\r\u001b[K     |██████████████████████████████▏ | 1.8MB 2.8MB/s eta 0:00:01\r\u001b[K     |██████████████████████████████▍ | 1.8MB 2.8MB/s eta 0:00:01\r\u001b[K     |██████████████████████████████▋ | 1.8MB 2.8MB/s eta 0:00:01\r\u001b[K     |██████████████████████████████▊ | 1.8MB 2.8MB/s eta 0:00:01\r\u001b[K     |███████████████████████████████ | 1.8MB 2.8MB/s eta 0:00:01\r\u001b[K     |███████████████████████████████ | 1.9MB 2.8MB/s eta 0:00:01\r\u001b[K     |███████████████████████████████▎| 1.9MB 2.8MB/s eta 0:00:01\r\u001b[K     |███████████████████████████████▍| 1.9MB 2.8MB/s eta 0:00:01\r\u001b[K     |███████████████████████████████▋| 1.9MB 2.8MB/s eta 0:00:01\r\u001b[K     |███████████████████████████████▊| 1.9MB 2.8MB/s eta 0:00:01\r\u001b[K     |████████████████████████████████| 1.9MB 2.8MB/s eta 0:00:01\r\u001b[K     |████████████████████████████████| 1.9MB 2.8MB/s \n",
            "\u001b[?25hInstalling collected packages: pyspellchecker\n",
            "Successfully installed pyspellchecker-0.5.4\n"
          ],
          "name": "stdout"
        }
      ]
    },
    {
      "cell_type": "code",
      "metadata": {
        "id": "CuIqFSJI0FM5",
        "colab_type": "code",
        "colab": {}
      },
      "source": [
        "from spellchecker import SpellChecker\n",
        "\n",
        "spellc = SpellChecker()"
      ],
      "execution_count": 0,
      "outputs": []
    },
    {
      "cell_type": "code",
      "metadata": {
        "id": "C6whM7ej30rR",
        "colab_type": "code",
        "colab": {
          "base_uri": "https://localhost:8080/",
          "height": 72
        },
        "outputId": "2df64177-af13-4e58-96ac-86cce8184717"
      },
      "source": [
        "# top_100_least_common = word_freq_nltk.most_common(None)[-100:]\n",
        "\n",
        "words_or = []\n",
        "words_cr = []\n",
        "\n",
        "for word, _ in top_100_least_common:\n",
        "    corrected = spellc.correction(word)\n",
        "    if word != corrected:\n",
        "        words_or.append(word)\n",
        "        words_cr.append(corrected)\n",
        "\n",
        "print(f'Original:        {words_or}')\n",
        "print(f'Spell corrected: {words_cr}')"
      ],
      "execution_count": 141,
      "outputs": [
        {
          "output_type": "stream",
          "text": [
            "Original:        ['persoon', 'organizor', 'afterwardsit', 'mrw', 'pmthe', 'dieone', 'sunned', 'starteed', 'beforemy', 'favouron', 'phillipines', 'dawni', 'didcovered', 'thay', 'examonce', 'daymy', 'intolerablei', 'admited', 'numberone', 'besti', 'matesi', 'sexduring', 'organizors', 'partonce', 'chyne', 'sincereat', 'sadduring', 'accquainted', 'bbq', 'mahjong', 'pepole']\n",
            "Spell corrected: ['person', 'organizer', 'afterwards', 'mr', 'pathe', 'done', 'stunned', 'started', 'before', 'favour', 'philippines', 'dawn', 'discovered', 'that', 'examine', 'day', 'intolerable', 'admitted', 'number-one', 'best', 'mates', 'securing', 'organizers', 'parlance', 'coyne', 'sincerest', 'savouring', 'acquainted', 'bbc', 'mahon', 'people']\n"
          ],
          "name": "stdout"
        }
      ]
    },
    {
      "cell_type": "markdown",
      "metadata": {
        "id": "9Zl5fzjA5pY_",
        "colab_type": "text"
      },
      "source": [
        "Both the spell checker are not doing well. We can try using either one can compare the results later."
      ]
    }
  ]
}