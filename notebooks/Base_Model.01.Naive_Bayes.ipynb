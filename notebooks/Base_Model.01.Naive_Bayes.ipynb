{
  "nbformat": 4,
  "nbformat_minor": 0,
  "metadata": {
    "colab": {
      "name": "Untitled0.ipynb",
      "provenance": [],
      "collapsed_sections": []
    },
    "kernelspec": {
      "name": "python3",
      "display_name": "Python 3"
    }
  },
  "cells": [
    {
      "cell_type": "markdown",
      "metadata": {
        "id": "qXn7ex2uziYc",
        "colab_type": "text"
      },
      "source": [
        "# **References**\n",
        "\n",
        "* [15 basic step for NLP](https://github.com/themadan/12.NLP-ear-and-tongue-sound-and-text-/blob/master/15_natural_language_processing.ipynb)\n",
        "\n",
        "* [Microsoft developer](https://devblogs.microsoft.com/cse/2015/11/29/emotion-detection-and-recognition-from-text-using-deep-learning/)\n",
        "* [Medium](https://medium.com/the-research-nest/applied-machine-learning-part-3-3fd405842a18) <br> [Work](https://github.com/aditya-xq/Text-Emotion-Detection-Using-NLP)\n",
        "* [Compete web application](https://github.com/maelfabien/Multimodal-Emotion-Recognition)\n",
        "\n",
        "* [git](https://github.com/Harsh24893/EmotionRecognition)\n",
        "* [Notebook](https://github.com/abishekarun/Text-Emotion-Classification/blob/master/emotion_classification.ipynb)\n",
        "\n"
      ]
    },
    {
      "cell_type": "markdown",
      "metadata": {
        "id": "DGVMkeTDEeBJ",
        "colab_type": "text"
      },
      "source": [
        "# **Import Packages**"
      ]
    },
    {
      "cell_type": "code",
      "metadata": {
        "id": "ClTdfIcLE1Pg",
        "colab_type": "code",
        "colab": {
          "base_uri": "https://localhost:8080/",
          "height": 73
        },
        "outputId": "da67bafb-2aa4-42c7-db5c-35abad6c19b9"
      },
      "source": [
        "import pandas as pd\n",
        "import numpy as np\n",
        "import seaborn as sns\n",
        "\n",
        "from sklearn.preprocessing import LabelEncoder\n",
        "from sklearn.model_selection import train_test_split\n",
        "from scipy.stats import itemfreq\n",
        "from sklearn.feature_extraction.text import CountVectorizer,TfidfTransformer,HashingVectorizer\n",
        "from sklearn.pipeline import Pipeline\n",
        "import nltk\n",
        "from nltk.corpus import stopwords\n",
        "from sklearn.naive_bayes import MultinomialNB\n",
        "from sklearn.metrics import confusion_matrix\n",
        "\n",
        "\n"
      ],
      "execution_count": 2,
      "outputs": [
        {
          "output_type": "stream",
          "text": [
            "/usr/local/lib/python3.6/dist-packages/statsmodels/tools/_testing.py:19: FutureWarning: pandas.util.testing is deprecated. Use the functions in the public API at pandas.testing instead.\n",
            "  import pandas.util.testing as tm\n"
          ],
          "name": "stderr"
        }
      ]
    },
    {
      "cell_type": "code",
      "metadata": {
        "id": "pPilBrAlvLc_",
        "colab_type": "code",
        "outputId": "d20a510b-bbe8-4e51-bc4e-e2454cf18515",
        "colab": {
          "base_uri": "https://localhost:8080/",
          "height": 127
        }
      },
      "source": [
        "from google.colab import drive\n",
        "drive.mount('/drive')"
      ],
      "execution_count": 3,
      "outputs": [
        {
          "output_type": "stream",
          "text": [
            "Go to this URL in a browser: https://accounts.google.com/o/oauth2/auth?client_id=947318989803-6bn6qk8qdgf4n4g3pfee6491hc0brc4i.apps.googleusercontent.com&redirect_uri=urn%3aietf%3awg%3aoauth%3a2.0%3aoob&response_type=code&scope=email%20https%3a%2f%2fwww.googleapis.com%2fauth%2fdocs.test%20https%3a%2f%2fwww.googleapis.com%2fauth%2fdrive%20https%3a%2f%2fwww.googleapis.com%2fauth%2fdrive.photos.readonly%20https%3a%2f%2fwww.googleapis.com%2fauth%2fpeopleapi.readonly\n",
            "\n",
            "Enter your authorization code:\n",
            "··········\n",
            "Mounted at /drive\n"
          ],
          "name": "stdout"
        }
      ]
    },
    {
      "cell_type": "code",
      "metadata": {
        "id": "2Y9aCaba3bnk",
        "colab_type": "code",
        "colab": {}
      },
      "source": [
        "columns=['emotion','content']\n",
        "data = pd.read_csv('/drive/My Drive/Fusemachines Nepal/NLP/ISEAR.csv',names=columns)"
      ],
      "execution_count": 0,
      "outputs": []
    },
    {
      "cell_type": "code",
      "metadata": {
        "id": "jvH7rqzV3ed6",
        "colab_type": "code",
        "outputId": "fc067be4-c0f2-47b2-e76b-02c41d09405c",
        "colab": {
          "base_uri": "https://localhost:8080/",
          "height": 204
        }
      },
      "source": [
        "data.head()"
      ],
      "execution_count": 6,
      "outputs": [
        {
          "output_type": "execute_result",
          "data": {
            "text/html": [
              "<div>\n",
              "<style scoped>\n",
              "    .dataframe tbody tr th:only-of-type {\n",
              "        vertical-align: middle;\n",
              "    }\n",
              "\n",
              "    .dataframe tbody tr th {\n",
              "        vertical-align: top;\n",
              "    }\n",
              "\n",
              "    .dataframe thead th {\n",
              "        text-align: right;\n",
              "    }\n",
              "</style>\n",
              "<table border=\"1\" class=\"dataframe\">\n",
              "  <thead>\n",
              "    <tr style=\"text-align: right;\">\n",
              "      <th></th>\n",
              "      <th>emotion</th>\n",
              "      <th>content</th>\n",
              "    </tr>\n",
              "  </thead>\n",
              "  <tbody>\n",
              "    <tr>\n",
              "      <th>0</th>\n",
              "      <td>joy</td>\n",
              "      <td>On days when I feel close to my partner and ot...</td>\n",
              "    </tr>\n",
              "    <tr>\n",
              "      <th>1</th>\n",
              "      <td>fear</td>\n",
              "      <td>Every time I imagine that someone I love or I ...</td>\n",
              "    </tr>\n",
              "    <tr>\n",
              "      <th>2</th>\n",
              "      <td>anger</td>\n",
              "      <td>When I had been obviously unjustly treated and...</td>\n",
              "    </tr>\n",
              "    <tr>\n",
              "      <th>3</th>\n",
              "      <td>sadness</td>\n",
              "      <td>When I think about the short time that we live...</td>\n",
              "    </tr>\n",
              "    <tr>\n",
              "      <th>4</th>\n",
              "      <td>disgust</td>\n",
              "      <td>At a gathering I found myself involuntarily si...</td>\n",
              "    </tr>\n",
              "  </tbody>\n",
              "</table>\n",
              "</div>"
            ],
            "text/plain": [
              "   emotion                                            content\n",
              "0      joy  On days when I feel close to my partner and ot...\n",
              "1     fear  Every time I imagine that someone I love or I ...\n",
              "2    anger  When I had been obviously unjustly treated and...\n",
              "3  sadness  When I think about the short time that we live...\n",
              "4  disgust  At a gathering I found myself involuntarily si..."
            ]
          },
          "metadata": {
            "tags": []
          },
          "execution_count": 6
        }
      ]
    },
    {
      "cell_type": "code",
      "metadata": {
        "id": "HicoKm3gUUSG",
        "colab_type": "code",
        "outputId": "8ef7678c-2bb0-4d85-bc6d-33d7c4cc8b0a",
        "colab": {
          "base_uri": "https://localhost:8080/",
          "height": 173
        }
      },
      "source": [
        "data.describe()"
      ],
      "execution_count": 7,
      "outputs": [
        {
          "output_type": "execute_result",
          "data": {
            "text/html": [
              "<div>\n",
              "<style scoped>\n",
              "    .dataframe tbody tr th:only-of-type {\n",
              "        vertical-align: middle;\n",
              "    }\n",
              "\n",
              "    .dataframe tbody tr th {\n",
              "        vertical-align: top;\n",
              "    }\n",
              "\n",
              "    .dataframe thead th {\n",
              "        text-align: right;\n",
              "    }\n",
              "</style>\n",
              "<table border=\"1\" class=\"dataframe\">\n",
              "  <thead>\n",
              "    <tr style=\"text-align: right;\">\n",
              "      <th></th>\n",
              "      <th>emotion</th>\n",
              "      <th>content</th>\n",
              "    </tr>\n",
              "  </thead>\n",
              "  <tbody>\n",
              "    <tr>\n",
              "      <th>count</th>\n",
              "      <td>7446</td>\n",
              "      <td>7446</td>\n",
              "    </tr>\n",
              "    <tr>\n",
              "      <th>unique</th>\n",
              "      <td>7</td>\n",
              "      <td>7379</td>\n",
              "    </tr>\n",
              "    <tr>\n",
              "      <th>top</th>\n",
              "      <td>joy</td>\n",
              "      <td>When my grandfather died.</td>\n",
              "    </tr>\n",
              "    <tr>\n",
              "      <th>freq</th>\n",
              "      <td>1082</td>\n",
              "      <td>8</td>\n",
              "    </tr>\n",
              "  </tbody>\n",
              "</table>\n",
              "</div>"
            ],
            "text/plain": [
              "       emotion                    content\n",
              "count     7446                       7446\n",
              "unique       7                       7379\n",
              "top        joy  When my grandfather died.\n",
              "freq      1082                          8"
            ]
          },
          "metadata": {
            "tags": []
          },
          "execution_count": 7
        }
      ]
    },
    {
      "cell_type": "markdown",
      "metadata": {
        "id": "tBa9BE-EUihC",
        "colab_type": "text"
      },
      "source": [
        "* We have 7 emotion category.\n",
        "* We have Total of 7446 data.\n",
        "* Class joy has the highest number of data."
      ]
    },
    {
      "cell_type": "code",
      "metadata": {
        "id": "-SvrbG6D34Hz",
        "colab_type": "code",
        "outputId": "cce64518-bd58-4499-e54a-b69d0c67f30d",
        "colab": {
          "base_uri": "https://localhost:8080/",
          "height": 35
        }
      },
      "source": [
        "data.shape"
      ],
      "execution_count": 8,
      "outputs": [
        {
          "output_type": "execute_result",
          "data": {
            "text/plain": [
              "(7446, 2)"
            ]
          },
          "metadata": {
            "tags": []
          },
          "execution_count": 8
        }
      ]
    },
    {
      "cell_type": "code",
      "metadata": {
        "id": "2Hwo6ZRk47Bh",
        "colab_type": "code",
        "outputId": "78d4b27f-47e8-48f5-a40c-ceb3b420f62c",
        "colab": {
          "base_uri": "https://localhost:8080/",
          "height": 179
        }
      },
      "source": [
        "data.info()"
      ],
      "execution_count": 9,
      "outputs": [
        {
          "output_type": "stream",
          "text": [
            "<class 'pandas.core.frame.DataFrame'>\n",
            "Int64Index: 7446 entries, 0 to 7445\n",
            "Data columns (total 2 columns):\n",
            " #   Column   Non-Null Count  Dtype \n",
            "---  ------   --------------  ----- \n",
            " 0   emotion  7446 non-null   object\n",
            " 1   content  7446 non-null   object\n",
            "dtypes: object(2)\n",
            "memory usage: 174.5+ KB\n"
          ],
          "name": "stdout"
        }
      ]
    },
    {
      "cell_type": "markdown",
      "metadata": {
        "id": "YNIYBtPzU4E3",
        "colab_type": "text"
      },
      "source": [
        "## **Number of data for each emotion.**"
      ]
    },
    {
      "cell_type": "code",
      "metadata": {
        "id": "n7cIvXbz5Avl",
        "colab_type": "code",
        "outputId": "e744e9b0-77c6-43a5-e29d-a8498506b81b",
        "colab": {
          "base_uri": "https://localhost:8080/",
          "height": 161
        }
      },
      "source": [
        "data.emotion.value_counts()"
      ],
      "execution_count": 10,
      "outputs": [
        {
          "output_type": "execute_result",
          "data": {
            "text/plain": [
              "joy        1082\n",
              "sadness    1074\n",
              "anger      1069\n",
              "fear       1063\n",
              "shame      1059\n",
              "disgust    1059\n",
              "guilt      1040\n",
              "Name: emotion, dtype: int64"
            ]
          },
          "metadata": {
            "tags": []
          },
          "execution_count": 10
        }
      ]
    },
    {
      "cell_type": "markdown",
      "metadata": {
        "id": "uBbG7HQOVKSs",
        "colab_type": "text"
      },
      "source": [
        "* We have 7 emotion types\n",
        "* The data seems to be quite balanced"
      ]
    },
    {
      "cell_type": "markdown",
      "metadata": {
        "id": "oUbH2yiP5p0G",
        "colab_type": "text"
      },
      "source": [
        "# **Clean Text**"
      ]
    },
    {
      "cell_type": "code",
      "metadata": {
        "id": "pijLk5-BVV40",
        "colab_type": "code",
        "outputId": "00cf382f-4f38-46e0-9da1-0eb836537a02",
        "colab": {
          "base_uri": "https://localhost:8080/",
          "height": 287
        }
      },
      "source": [
        "data['content'][0]\n",
        "print(data['content'][0])\n",
        "print(data['content'].str.len())"
      ],
      "execution_count": 11,
      "outputs": [
        {
          "output_type": "stream",
          "text": [
            "On days when I feel close to my partner and other friends.   \n",
            "When I feel at peace with myself and also experience a close  \n",
            "contact with people whom I regard greatly.\n",
            "0       167\n",
            "1        92\n",
            "2        88\n",
            "3       139\n",
            "4       144\n",
            "       ... \n",
            "7441    181\n",
            "7442     72\n",
            "7443    875\n",
            "7444    358\n",
            "7445     90\n",
            "Name: content, Length: 7446, dtype: int64\n"
          ],
          "name": "stdout"
        }
      ]
    },
    {
      "cell_type": "markdown",
      "metadata": {
        "id": "271PJEJdVtbY",
        "colab_type": "text"
      },
      "source": [
        "## **Remove all the new line characters**"
      ]
    },
    {
      "cell_type": "code",
      "metadata": {
        "id": "llYvddj-VzyF",
        "colab_type": "code",
        "outputId": "0d336896-976a-4875-dd20-50201a2bb1fd",
        "colab": {
          "base_uri": "https://localhost:8080/",
          "height": 271
        }
      },
      "source": [
        "data['content'] = data['content'].str.replace('\\n', '')\n",
        "print(data['content'][0])\n",
        "print(data['content'].str.len())"
      ],
      "execution_count": 12,
      "outputs": [
        {
          "output_type": "stream",
          "text": [
            "On days when I feel close to my partner and other friends.   When I feel at peace with myself and also experience a close  contact with people whom I regard greatly.\n",
            "0       165\n",
            "1        91\n",
            "2        87\n",
            "3       137\n",
            "4       142\n",
            "       ... \n",
            "7441    179\n",
            "7442     71\n",
            "7443    862\n",
            "7444    353\n",
            "7445     89\n",
            "Name: content, Length: 7446, dtype: int64\n"
          ],
          "name": "stdout"
        }
      ]
    },
    {
      "cell_type": "markdown",
      "metadata": {
        "id": "yGg87RzgYEvQ",
        "colab_type": "text"
      },
      "source": [
        "## **Replace full stop with blank**"
      ]
    },
    {
      "cell_type": "code",
      "metadata": {
        "id": "OPOZ5jy5YI7z",
        "colab_type": "code",
        "outputId": "a700ad10-c8fb-4c60-b367-cf6dbd0e5fc9",
        "colab": {
          "base_uri": "https://localhost:8080/",
          "height": 271
        }
      },
      "source": [
        "data['content'] = data['content'].str.replace('.', '')\n",
        "print(data['content'][0])\n",
        "print(data['content'].str.len())"
      ],
      "execution_count": 13,
      "outputs": [
        {
          "output_type": "stream",
          "text": [
            "On days when I feel close to my partner and other friends   When I feel at peace with myself and also experience a close  contact with people whom I regard greatly\n",
            "0       163\n",
            "1        90\n",
            "2        86\n",
            "3       136\n",
            "4       141\n",
            "       ... \n",
            "7441    177\n",
            "7442     70\n",
            "7443    853\n",
            "7444    349\n",
            "7445     88\n",
            "Name: content, Length: 7446, dtype: int64\n"
          ],
          "name": "stdout"
        }
      ]
    },
    {
      "cell_type": "markdown",
      "metadata": {
        "id": "uG0R_AuE51D_",
        "colab_type": "text"
      },
      "source": [
        "## **Remove irrelevant characters other than alphanumeric and space**"
      ]
    },
    {
      "cell_type": "code",
      "metadata": {
        "id": "WpOnjqZ55Mr7",
        "colab_type": "code",
        "outputId": "57f02122-5621-4443-f53f-5ed7ff534cdd",
        "colab": {
          "base_uri": "https://localhost:8080/",
          "height": 271
        }
      },
      "source": [
        "data['content']=data['content'].str.replace('[^A-Za-z0-9\\s]+', '')\n",
        "print(data['content'][0])\n",
        "print(data['content'].str.len())"
      ],
      "execution_count": 14,
      "outputs": [
        {
          "output_type": "stream",
          "text": [
            "On days when I feel close to my partner and other friends   When I feel at peace with myself and also experience a close  contact with people whom I regard greatly\n",
            "0       163\n",
            "1        89\n",
            "2        86\n",
            "3       136\n",
            "4       141\n",
            "       ... \n",
            "7441    177\n",
            "7442     70\n",
            "7443    852\n",
            "7444    348\n",
            "7445     88\n",
            "Name: content, Length: 7446, dtype: int64\n"
          ],
          "name": "stdout"
        }
      ]
    },
    {
      "cell_type": "markdown",
      "metadata": {
        "id": "TgcswHZZ6SAZ",
        "colab_type": "text"
      },
      "source": [
        "## **Remove links from the text**"
      ]
    },
    {
      "cell_type": "code",
      "metadata": {
        "id": "V6JBP9DX56d_",
        "colab_type": "code",
        "outputId": "96b1871d-07b8-49fa-d777-e06b03cff022",
        "colab": {
          "base_uri": "https://localhost:8080/",
          "height": 271
        }
      },
      "source": [
        "data['content']=data['content'].str.replace('http\\S+|www.\\S+', '', case=False)\n",
        "print(data['content'][0])\n",
        "print(data['content'].str.len())"
      ],
      "execution_count": 15,
      "outputs": [
        {
          "output_type": "stream",
          "text": [
            "On days when I feel close to my partner and other friends   When I feel at peace with myself and also experience a close  contact with people whom I regard greatly\n",
            "0       163\n",
            "1        89\n",
            "2        86\n",
            "3       136\n",
            "4       141\n",
            "       ... \n",
            "7441    177\n",
            "7442     70\n",
            "7443    852\n",
            "7444    348\n",
            "7445     88\n",
            "Name: content, Length: 7446, dtype: int64\n"
          ],
          "name": "stdout"
        }
      ]
    },
    {
      "cell_type": "markdown",
      "metadata": {
        "id": "z2Bs7TmM6YXB",
        "colab_type": "text"
      },
      "source": [
        "## **Convert everything to lowercase**"
      ]
    },
    {
      "cell_type": "code",
      "metadata": {
        "id": "jsCdMmap6WWV",
        "colab_type": "code",
        "outputId": "b310fe90-d206-4778-f4af-4cacb227d1c0",
        "colab": {
          "base_uri": "https://localhost:8080/",
          "height": 271
        }
      },
      "source": [
        "data['content']=data['content'].str.lower()\n",
        "print(data['content'][0])\n",
        "print(data['content'].str.len())"
      ],
      "execution_count": 16,
      "outputs": [
        {
          "output_type": "stream",
          "text": [
            "on days when i feel close to my partner and other friends   when i feel at peace with myself and also experience a close  contact with people whom i regard greatly\n",
            "0       163\n",
            "1        89\n",
            "2        86\n",
            "3       136\n",
            "4       141\n",
            "       ... \n",
            "7441    177\n",
            "7442     70\n",
            "7443    852\n",
            "7444    348\n",
            "7445     88\n",
            "Name: content, Length: 7446, dtype: int64\n"
          ],
          "name": "stdout"
        }
      ]
    },
    {
      "cell_type": "markdown",
      "metadata": {
        "id": "EJj7rfZZj4pG",
        "colab_type": "text"
      },
      "source": [
        "## **Removing Punctuation, Symbols**"
      ]
    },
    {
      "cell_type": "code",
      "metadata": {
        "id": "N16by-4Qjvpl",
        "colab_type": "code",
        "outputId": "cdff9c9b-decd-4e9e-dded-9094d78cce9a",
        "colab": {
          "base_uri": "https://localhost:8080/",
          "height": 271
        }
      },
      "source": [
        "data['content'] = data['content'].str.replace('[^\\w\\s]',' ')\n",
        "print(data['content'][0])\n",
        "print(data['content'].str.len())"
      ],
      "execution_count": 17,
      "outputs": [
        {
          "output_type": "stream",
          "text": [
            "on days when i feel close to my partner and other friends   when i feel at peace with myself and also experience a close  contact with people whom i regard greatly\n",
            "0       163\n",
            "1        89\n",
            "2        86\n",
            "3       136\n",
            "4       141\n",
            "       ... \n",
            "7441    177\n",
            "7442     70\n",
            "7443    852\n",
            "7444    348\n",
            "7445     88\n",
            "Name: content, Length: 7446, dtype: int64\n"
          ],
          "name": "stdout"
        }
      ]
    },
    {
      "cell_type": "markdown",
      "metadata": {
        "id": "mPHDGRsWj65i",
        "colab_type": "text"
      },
      "source": [
        "## **Removing Stop Words using NLTK**"
      ]
    },
    {
      "cell_type": "code",
      "metadata": {
        "id": "vM7DdEO3j89S",
        "colab_type": "code",
        "outputId": "866f7134-ab9e-4642-b9eb-e7df2df563d9",
        "colab": {
          "base_uri": "https://localhost:8080/",
          "height": 307
        }
      },
      "source": [
        "from nltk.corpus import stopwords\n",
        "\n",
        "nltk.download('stopwords')\n",
        "stop = stopwords.words('english')\n",
        "data['content'] = data['content'].apply(lambda x: \" \".join(x for x in x.split() if x not in stop))\n",
        "\n",
        "print(data['content'][0])\n",
        "print(data['content'].str.len())"
      ],
      "execution_count": 19,
      "outputs": [
        {
          "output_type": "stream",
          "text": [
            "[nltk_data] Downloading package stopwords to /root/nltk_data...\n",
            "[nltk_data]   Unzipping corpora/stopwords.zip.\n",
            "days feel close partner friends feel peace also experience close contact people regard greatly\n",
            "0        94\n",
            "1        72\n",
            "2        50\n",
            "3        62\n",
            "4       102\n",
            "       ... \n",
            "7441    110\n",
            "7442     29\n",
            "7443    474\n",
            "7444    226\n",
            "7445     48\n",
            "Name: content, Length: 7446, dtype: int64\n"
          ],
          "name": "stdout"
        }
      ]
    },
    {
      "cell_type": "markdown",
      "metadata": {
        "id": "2JPrNmMVkReB",
        "colab_type": "text"
      },
      "source": [
        "## **Lemmatisation**"
      ]
    },
    {
      "cell_type": "code",
      "metadata": {
        "id": "Imy2zzVhkYbk",
        "colab_type": "code",
        "outputId": "f91d9606-9af0-4b20-9a7f-bd42a6cbb431",
        "colab": {
          "base_uri": "https://localhost:8080/",
          "height": 307
        }
      },
      "source": [
        "from textblob import Word\n",
        "\n",
        "nltk.download('wordnet')\n",
        "data['content'] = data['content'].apply(lambda x: \" \".join([Word(word).lemmatize() for word in x.split()]))\n",
        "print(data['content'][0])\n",
        "print(data['content'].str.len())"
      ],
      "execution_count": 21,
      "outputs": [
        {
          "output_type": "stream",
          "text": [
            "[nltk_data] Downloading package wordnet to /root/nltk_data...\n",
            "[nltk_data]   Unzipping corpora/wordnet.zip.\n",
            "day feel close partner friend feel peace also experience close contact people regard greatly\n",
            "0        92\n",
            "1        72\n",
            "2        50\n",
            "3        61\n",
            "4       101\n",
            "       ... \n",
            "7441    109\n",
            "7442     29\n",
            "7443    468\n",
            "7444    225\n",
            "7445     47\n",
            "Name: content, Length: 7446, dtype: int64\n"
          ],
          "name": "stdout"
        }
      ]
    },
    {
      "cell_type": "markdown",
      "metadata": {
        "id": "imspzwImkcvB",
        "colab_type": "text"
      },
      "source": [
        "## **Correcting Letter Repetitions**"
      ]
    },
    {
      "cell_type": "code",
      "metadata": {
        "id": "CEm6Ymv8keo-",
        "colab_type": "code",
        "outputId": "22750476-04af-45a8-ec65-2ad660f6d66b",
        "colab": {
          "base_uri": "https://localhost:8080/",
          "height": 271
        }
      },
      "source": [
        "import re\n",
        "def de_repeat(text):\n",
        "    pattern = re.compile(r\"(.)\\1{2,}\")\n",
        "    return pattern.sub(r\"\\1\\1\", text)\n",
        "\n",
        "data['content'] = data['content'].apply(lambda x: \" \".join(de_repeat(x) for x in x.split()))\n",
        "\n",
        "print(data['content'][0])\n",
        "print(data['content'].str.len())"
      ],
      "execution_count": 22,
      "outputs": [
        {
          "output_type": "stream",
          "text": [
            "day feel close partner friend feel peace also experience close contact people regard greatly\n",
            "0        92\n",
            "1        72\n",
            "2        50\n",
            "3        61\n",
            "4       101\n",
            "       ... \n",
            "7441    109\n",
            "7442     29\n",
            "7443    468\n",
            "7444    225\n",
            "7445     47\n",
            "Name: content, Length: 7446, dtype: int64\n"
          ],
          "name": "stdout"
        }
      ]
    },
    {
      "cell_type": "markdown",
      "metadata": {
        "id": "KpeVpQ1I6xOI",
        "colab_type": "text"
      },
      "source": [
        "# **Assign Target Variable**"
      ]
    },
    {
      "cell_type": "code",
      "metadata": {
        "id": "6PcmiyxSxWeK",
        "colab_type": "code",
        "outputId": "336379f8-d306-4f69-cd92-ad2a662fcd6d",
        "colab": {
          "base_uri": "https://localhost:8080/",
          "height": 485
        }
      },
      "source": [
        "target=data.emotion\n",
        "data = data.drop(['emotion'],axis=1)\n",
        "print(target)\n",
        "print(data)"
      ],
      "execution_count": 23,
      "outputs": [
        {
          "output_type": "stream",
          "text": [
            "0           joy\n",
            "1          fear\n",
            "2         anger\n",
            "3       sadness\n",
            "4       disgust\n",
            "         ...   \n",
            "7441      anger\n",
            "7442    sadness\n",
            "7443    disgust\n",
            "7444      shame\n",
            "7445      guilt\n",
            "Name: emotion, Length: 7446, dtype: object\n",
            "                                                content\n",
            "0     day feel close partner friend feel peace also ...\n",
            "1     every time imagine someone love could contact ...\n",
            "2     obviously unjustly treated possibility elucida...\n",
            "3     think short time live relate period life think...\n",
            "4     gathering found involuntarily sitting next two...\n",
            "...                                                 ...\n",
            "7441  last week planned play tennis booked tennis co...\n",
            "7442                      ill stay hospital period time\n",
            "7443  day back waiting bus bus stop getting bus prep...\n",
            "7444  day back tutorial class teacher randomly assig...\n",
            "7445    quarrelled sister deliberately messed belonging\n",
            "\n",
            "[7446 rows x 1 columns]\n"
          ],
          "name": "stdout"
        }
      ]
    },
    {
      "cell_type": "markdown",
      "metadata": {
        "id": "nILk9azI7BEz",
        "colab_type": "text"
      },
      "source": [
        "# **LabelEncoder for target**"
      ]
    },
    {
      "cell_type": "code",
      "metadata": {
        "id": "H5KAyaCcxhaL",
        "colab_type": "code",
        "outputId": "5f61803b-67cf-4658-ef3a-5eccdc871876",
        "colab": {
          "base_uri": "https://localhost:8080/",
          "height": 35
        }
      },
      "source": [
        "le=LabelEncoder()\n",
        "target=le.fit_transform(target)\n",
        "print(target)"
      ],
      "execution_count": 24,
      "outputs": [
        {
          "output_type": "stream",
          "text": [
            "[4 2 0 ... 1 6 3]\n"
          ],
          "name": "stdout"
        }
      ]
    },
    {
      "cell_type": "markdown",
      "metadata": {
        "id": "VAq6noIm7WvI",
        "colab_type": "text"
      },
      "source": [
        "# **Split Data into train & test**"
      ]
    },
    {
      "cell_type": "code",
      "metadata": {
        "id": "NaS_OriGo3_T",
        "colab_type": "code",
        "outputId": "5baa537c-71bd-4abe-b2f3-cd48ca27a53b",
        "colab": {
          "base_uri": "https://localhost:8080/",
          "height": 359
        }
      },
      "source": [
        "X_train, X_test, y_train, y_test = train_test_split(data,target,stratify=target,test_size=0.4, random_state=42)\n",
        "print(X_train)\n",
        "print(y_train)\n",
        "print(X_train.shape)\n",
        "print(y_train.shape)\n",
        "print(X_test.shape)\n",
        "print(y_test.shape)\n",
        "\n"
      ],
      "execution_count": 25,
      "outputs": [
        {
          "output_type": "stream",
          "text": [
            "                                                content\n",
            "504                went home train sicilia molested man\n",
            "2282  met girl 22 year old married liked asked date ...\n",
            "3476          sad first boyfriend finished relationship\n",
            "6478                 heard friend started drinking beer\n",
            "2250  possibility getting better professional life v...\n",
            "...                                                 ...\n",
            "4074  aunt phoned ask refused invitation dinner home...\n",
            "6622  wet head bed one day sister discovered reporte...\n",
            "2758  feeling unable preserve one idea ambition inno...\n",
            "1465  angry several driver showed aggressive dangero...\n",
            "2824  possibility act certain activity better done r...\n",
            "\n",
            "[4467 rows x 1 columns]\n",
            "[1 1 5 ... 5 0 3]\n",
            "(4467, 1)\n",
            "(4467,)\n",
            "(2979, 1)\n",
            "(2979,)\n"
          ],
          "name": "stdout"
        }
      ]
    },
    {
      "cell_type": "markdown",
      "metadata": {
        "id": "vpIyFR7AqoBQ",
        "colab_type": "text"
      },
      "source": [
        "# **Tokenization**"
      ]
    },
    {
      "cell_type": "markdown",
      "metadata": {
        "id": "GYz_fWx9430p",
        "colab_type": "text"
      },
      "source": [
        "Tokenization can be done in a variety of ways, namely \n",
        "* Bag of words, \n",
        "* tf-idf, Glove, \n",
        "* word2vec ,\n",
        "* fasttext etc. Lets see how they can be applied and how they affect the accuracy"
      ]
    },
    {
      "cell_type": "markdown",
      "metadata": {
        "id": "RA2lEi_QzEtV",
        "colab_type": "text"
      },
      "source": [
        "## **Bag of Words and Naive Bayes**"
      ]
    },
    {
      "cell_type": "code",
      "metadata": {
        "id": "myqdD9UlrSRR",
        "colab_type": "code",
        "outputId": "b19cdbe9-13c5-4c4e-e8f8-a90923816b2c",
        "colab": {
          "base_uri": "https://localhost:8080/",
          "height": 35
        }
      },
      "source": [
        "count_vect = CountVectorizer()\n",
        "X_train_counts = count_vect.fit_transform(X_train.content)\n",
        "X_test_counts =count_vect.transform(X_test.content)\n",
        "print('Shape of Term Frequency Matrix: ',X_train_counts.shape)"
      ],
      "execution_count": 26,
      "outputs": [
        {
          "output_type": "stream",
          "text": [
            "Shape of Term Frequency Matrix:  (4467, 6372)\n"
          ],
          "name": "stdout"
        }
      ]
    },
    {
      "cell_type": "markdown",
      "metadata": {
        "id": "0rkjNIm55COI",
        "colab_type": "text"
      },
      "source": [
        "### Naive Bayes Model"
      ]
    },
    {
      "cell_type": "code",
      "metadata": {
        "id": "VyMhBt8mra6O",
        "colab_type": "code",
        "outputId": "96737f68-4cc1-4307-dcc2-f82005344f8b",
        "colab": {
          "base_uri": "https://localhost:8080/",
          "height": 35
        }
      },
      "source": [
        "clf = MultinomialNB().fit(X_train_counts,y_train)\n",
        "predicted = clf.predict(X_test_counts)\n",
        "nb_clf_accuracy = np.mean(predicted == y_test) * 100\n",
        "print(nb_clf_accuracy)"
      ],
      "execution_count": 27,
      "outputs": [
        {
          "output_type": "stream",
          "text": [
            "55.58912386706949\n"
          ],
          "name": "stdout"
        }
      ]
    },
    {
      "cell_type": "markdown",
      "metadata": {
        "id": "Enq8YVQQ5G5V",
        "colab_type": "text"
      },
      "source": [
        "## **Pipeline and Naive Bayes**"
      ]
    },
    {
      "cell_type": "code",
      "metadata": {
        "id": "nqjvQ4a433FA",
        "colab_type": "code",
        "colab": {}
      },
      "source": [
        "def print_acc(model):\n",
        "    predicted = model.predict(X_test.content)\n",
        "    accuracy = np.mean(predicted == y_test) * 100\n",
        "    print(accuracy)"
      ],
      "execution_count": 0,
      "outputs": []
    },
    {
      "cell_type": "code",
      "metadata": {
        "id": "fMO0NvSV5wX4",
        "colab_type": "code",
        "colab": {
          "base_uri": "https://localhost:8080/",
          "height": 35
        },
        "outputId": "e99bc7f5-a72d-451c-fbd3-3342e5334687"
      },
      "source": [
        "nb_clf = Pipeline([('vect', CountVectorizer()), ('clf', MultinomialNB())])\n",
        "nb_clf = nb_clf.fit(X_train.content,y_train)\n",
        "print_acc(nb_clf)"
      ],
      "execution_count": 29,
      "outputs": [
        {
          "output_type": "stream",
          "text": [
            "55.58912386706949\n"
          ],
          "name": "stdout"
        }
      ]
    },
    {
      "cell_type": "markdown",
      "metadata": {
        "id": "lzJANU_f6GNx",
        "colab_type": "text"
      },
      "source": [
        "## **TF IDF transformer and Naive Bayes**"
      ]
    },
    {
      "cell_type": "code",
      "metadata": {
        "id": "JzuSnidQ5yYX",
        "colab_type": "code",
        "colab": {
          "base_uri": "https://localhost:8080/",
          "height": 35
        },
        "outputId": "eff607f9-6af8-42ac-ae73-35c547822962"
      },
      "source": [
        "nb_clf = Pipeline([('vect', CountVectorizer()), ('tfidf', TfidfTransformer()), ('clf', MultinomialNB())])\n",
        "nb_clf = nb_clf.fit(X_train.content,y_train)\n",
        "print_acc(nb_clf)"
      ],
      "execution_count": 30,
      "outputs": [
        {
          "output_type": "stream",
          "text": [
            "55.052030882846594\n"
          ],
          "name": "stdout"
        }
      ]
    }
  ]
}